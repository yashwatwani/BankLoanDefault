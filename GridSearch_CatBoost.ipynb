{
 "cells": [
  {
   "cell_type": "code",
   "execution_count": 1,
   "metadata": {},
   "outputs": [],
   "source": [
    "import pandas as pd\n",
    "df=pd.read_csv('train_indessa.csv')"
   ]
  },
  {
   "cell_type": "code",
   "execution_count": 2,
   "metadata": {},
   "outputs": [],
   "source": [
    "df.drop(['mths_since_last_delinq','mths_since_last_major_derog','mths_since_last_record','desc',\n",
    "         'verification_status_joint','batch_enrolled','sub_grade','title','zip_code','addr_state',\n",
    "        'emp_title'],axis=1,inplace=True)"
   ]
  },
  {
   "cell_type": "code",
   "execution_count": 3,
   "metadata": {},
   "outputs": [],
   "source": [
    "df['emp_length'].replace('n/a', '0', inplace=True)\n",
    "df['emp_length'].replace(to_replace='\\+ years', value='', regex=True, inplace=True)\n",
    "df['emp_length'].replace(to_replace=' years', value='', regex=True, inplace=True)\n",
    "df['emp_length'].replace(to_replace='< 1 year', value='0', regex=True, inplace=True)\n",
    "df['emp_length'].replace(to_replace=' year', value='', regex=True, inplace=True)\n",
    "\n",
    "df['emp_length'].fillna(df.emp_length.median(),inplace=True)\n",
    "\n",
    "df['emp_length'] = pd.to_numeric(df['emp_length'], errors='coerce')"
   ]
  },
  {
   "cell_type": "code",
   "execution_count": 4,
   "metadata": {},
   "outputs": [],
   "source": [
    "df['last_week_pay'] = df['last_week_pay'].str.extract('(\\d+)', expand=False)\n",
    "df['last_week_pay'].fillna(df['last_week_pay'].median(), inplace=True)\n",
    "df['last_week_pay'] = pd.to_numeric(df['last_week_pay'], errors='coerce')"
   ]
  },
  {
   "cell_type": "code",
   "execution_count": 5,
   "metadata": {},
   "outputs": [
    {
     "name": "stdout",
     "output_type": "stream",
     "text": [
      "Imputation with Median: loan_amnt\n",
      "Imputation with Median: funded_amnt\n",
      "Imputation with Median: int_rate\n",
      "Imputation with Median: annual_inc\n",
      "Imputation with Median: dti\n",
      "Imputation with Median: open_acc\n",
      "Imputation with Median: revol_bal\n",
      "Imputation with Median: revol_util\n",
      "Imputation with Median: total_acc\n",
      "Imputation with Median: total_rec_int\n",
      "Imputation with Median: tot_coll_amt\n",
      "Imputation with Median: tot_cur_bal\n",
      "Imputation with Median: total_rev_hi_lim\n"
     ]
    }
   ],
   "source": [
    "cols = ['loan_amnt', 'funded_amnt', 'int_rate',  'annual_inc', 'dti',  'open_acc', 'revol_bal', 'revol_util', 'total_acc',\n",
    "        'total_rec_int','tot_coll_amt', 'tot_cur_bal', 'total_rev_hi_lim']\n",
    "for col in cols:\n",
    "    print('Imputation with Median: %s' % (col))\n",
    "    df[col].fillna(df[col].median(), inplace=True)"
   ]
  },
  {
   "cell_type": "code",
   "execution_count": 6,
   "metadata": {},
   "outputs": [
    {
     "name": "stdout",
     "output_type": "stream",
     "text": [
      "Imputation with Zero: acc_now_delinq\n",
      "Imputation with Zero: collections_12_mths_ex_med\n",
      "Imputation with Zero: delinq_2yrs\n",
      "Imputation with Zero: inq_last_6mths\n",
      "Imputation with Zero: pub_rec\n"
     ]
    }
   ],
   "source": [
    "cols = ['acc_now_delinq', 'collections_12_mths_ex_med',\n",
    "       'delinq_2yrs','inq_last_6mths','pub_rec']\n",
    "for col in cols:\n",
    "    print('Imputation with Zero: %s' % (col))\n",
    "    df[col].fillna(0, inplace=True)"
   ]
  },
  {
   "cell_type": "code",
   "execution_count": 7,
   "metadata": {},
   "outputs": [],
   "source": [
    "df['term'].replace(to_replace=' months', value='', regex=True, inplace=True)\n",
    "df['term'] = pd.to_numeric(df['term'], errors='coerce')"
   ]
  },
  {
   "cell_type": "code",
   "execution_count": 8,
   "metadata": {},
   "outputs": [
    {
     "name": "stdout",
     "output_type": "stream",
     "text": [
      "Encoded:  home_ownership\n",
      "Encoded:  application_type\n",
      "Encoded:  initial_list_status\n",
      "Encoded:  pymnt_plan\n",
      "Encoded:  purpose\n",
      "Encoded:  initial_list_status\n",
      "Encoded:  grade\n",
      "Encoded:  verification_status\n"
     ]
    }
   ],
   "source": [
    "import numpy as np\n",
    "# Encode Label for Classifier\n",
    "from sklearn.preprocessing import LabelEncoder\n",
    "le1 = {}\n",
    "le=['home_ownership','application_type','initial_list_status','pymnt_plan','purpose','initial_list_status','grade','verification_status']\n",
    "\n",
    "for col in le:\n",
    "    le1[col] = LabelEncoder()\n",
    "    df[col] = le1[col].fit_transform(df[col])\n",
    "    le1[col].classes_ = np.append(le1[col].classes_, 'other')\n",
    "    \n",
    "    print('Encoded: ', col)"
   ]
  },
  {
   "cell_type": "code",
   "execution_count": 9,
   "metadata": {},
   "outputs": [],
   "source": [
    "# Interest paid so far\n",
    "df['int_paid'] = df['total_rec_int'] + df['total_rec_late_fee']\n",
    "\n",
    "# Total number of available/unused 'credit lines'\n",
    "df['avl_lines'] = df['total_acc'] - df['open_acc']\n",
    "\n",
    "df['sanctinoned'] = (df['funded_amnt'] + df['funded_amnt_inv']).div(2)\n",
    "\n",
    "df['total_repayment_progress'] = ((df['last_week_pay']/(df['term']/12*52+1))*100) + ((df['recoveries']/df['funded_amnt_inv']) * 100)\n",
    "\n",
    "df.insert(0, 'payment_completion', (df['last_week_pay']/(df['term']/12*52+1))*100)\n",
    "\n",
    "df['loan_to_income'] = df['annual_inc']/df['funded_amnt_inv']\n"
   ]
  },
  {
   "cell_type": "code",
   "execution_count": 10,
   "metadata": {},
   "outputs": [],
   "source": [
    "df.replace([np.inf, -np.inf], 0, inplace=True)"
   ]
  },
  {
   "cell_type": "code",
   "execution_count": 11,
   "metadata": {},
   "outputs": [
    {
     "data": {
      "text/plain": [
       "payment_completion              0\n",
       "member_id                       0\n",
       "loan_amnt                       0\n",
       "funded_amnt                     0\n",
       "funded_amnt_inv                 0\n",
       "term                            0\n",
       "int_rate                        0\n",
       "grade                           0\n",
       "emp_length                      0\n",
       "home_ownership                  0\n",
       "annual_inc                      0\n",
       "verification_status             0\n",
       "pymnt_plan                      0\n",
       "purpose                         0\n",
       "dti                             0\n",
       "delinq_2yrs                     0\n",
       "inq_last_6mths                  0\n",
       "open_acc                        0\n",
       "pub_rec                         0\n",
       "revol_bal                       0\n",
       "revol_util                      0\n",
       "total_acc                       0\n",
       "initial_list_status             0\n",
       "total_rec_int                   0\n",
       "total_rec_late_fee              0\n",
       "recoveries                      0\n",
       "collection_recovery_fee         0\n",
       "collections_12_mths_ex_med      0\n",
       "application_type                0\n",
       "last_week_pay                   0\n",
       "acc_now_delinq                  0\n",
       "tot_coll_amt                    0\n",
       "tot_cur_bal                     0\n",
       "total_rev_hi_lim                0\n",
       "loan_status                     0\n",
       "int_paid                        0\n",
       "avl_lines                       0\n",
       "sanctinoned                     0\n",
       "total_repayment_progress      113\n",
       "loan_to_income                  0\n",
       "dtype: int64"
      ]
     },
     "execution_count": 11,
     "metadata": {},
     "output_type": "execute_result"
    }
   ],
   "source": [
    "df.isnull().sum()"
   ]
  },
  {
   "cell_type": "code",
   "execution_count": 12,
   "metadata": {},
   "outputs": [],
   "source": [
    "df.fillna(0,inplace=True)"
   ]
  },
  {
   "cell_type": "code",
   "execution_count": 13,
   "metadata": {},
   "outputs": [
    {
     "data": {
      "text/plain": [
       "payment_completion            0\n",
       "member_id                     0\n",
       "loan_amnt                     0\n",
       "funded_amnt                   0\n",
       "funded_amnt_inv               0\n",
       "term                          0\n",
       "int_rate                      0\n",
       "grade                         0\n",
       "emp_length                    0\n",
       "home_ownership                0\n",
       "annual_inc                    0\n",
       "verification_status           0\n",
       "pymnt_plan                    0\n",
       "purpose                       0\n",
       "dti                           0\n",
       "delinq_2yrs                   0\n",
       "inq_last_6mths                0\n",
       "open_acc                      0\n",
       "pub_rec                       0\n",
       "revol_bal                     0\n",
       "revol_util                    0\n",
       "total_acc                     0\n",
       "initial_list_status           0\n",
       "total_rec_int                 0\n",
       "total_rec_late_fee            0\n",
       "recoveries                    0\n",
       "collection_recovery_fee       0\n",
       "collections_12_mths_ex_med    0\n",
       "application_type              0\n",
       "last_week_pay                 0\n",
       "acc_now_delinq                0\n",
       "tot_coll_amt                  0\n",
       "tot_cur_bal                   0\n",
       "total_rev_hi_lim              0\n",
       "loan_status                   0\n",
       "int_paid                      0\n",
       "avl_lines                     0\n",
       "sanctinoned                   0\n",
       "total_repayment_progress      0\n",
       "loan_to_income                0\n",
       "dtype: int64"
      ]
     },
     "execution_count": 13,
     "metadata": {},
     "output_type": "execute_result"
    }
   ],
   "source": [
    "df.isnull().sum()"
   ]
  },
  {
   "cell_type": "code",
   "execution_count": 14,
   "metadata": {},
   "outputs": [],
   "source": [
    "from sklearn.model_selection import train_test_split\n",
    "X=df.drop(['loan_status','member_id'],axis=1)\n",
    "y=df[['loan_status']]\n",
    "X_train, X_test, y_train, y_test = train_test_split(X, y,test_size=.30,random_state =123)"
   ]
  },
  {
   "cell_type": "code",
   "execution_count": 15,
   "metadata": {},
   "outputs": [],
   "source": [
    "from sklearn.preprocessing import MinMaxScaler\n",
    "\n",
    "# fit scaler on training data\n",
    "norm = MinMaxScaler().fit(X_train)\n",
    "\n",
    "# transform training data\n",
    "X_train_norm = norm.transform(X_train)\n",
    "\n",
    "# transform testing dataabs\n",
    "X_test_norm = norm.transform(X_test)"
   ]
  },
  {
   "cell_type": "code",
   "execution_count": 16,
   "metadata": {},
   "outputs": [],
   "source": [
    "from sklearn.ensemble import RandomForestClassifier\n",
    "from sklearn.metrics import roc_curve, roc_auc_score"
   ]
  },
  {
   "cell_type": "code",
   "execution_count": 17,
   "metadata": {},
   "outputs": [
    {
     "name": "stderr",
     "output_type": "stream",
     "text": [
      "/usr/lib/python3/dist-packages/ipykernel_launcher.py:2: DataConversionWarning: A column-vector y was passed when a 1d array was expected. Please change the shape of y to (n_samples,), for example using ravel().\n",
      "  \n",
      "[Parallel(n_jobs=-1)]: Using backend ThreadingBackend with 4 concurrent workers.\n"
     ]
    },
    {
     "name": "stdout",
     "output_type": "stream",
     "text": [
      "building tree 1 of 180\n",
      "building tree 2 of 180\n",
      "building tree 3 of 180\n",
      "building tree 4 of 180\n",
      "building tree 5 of 180\n",
      "building tree 6 of 180\n",
      "building tree 7 of 180\n",
      "building tree 8 of 180\n",
      "building tree 9 of 180\n",
      "building tree 10 of 180\n",
      "building tree 11 of 180\n",
      "building tree 12 of 180\n",
      "building tree 13 of 180\n"
     ]
    },
    {
     "name": "stderr",
     "output_type": "stream",
     "text": [
      "[Parallel(n_jobs=-1)]: Done  10 tasks      | elapsed:   36.8s\n"
     ]
    },
    {
     "name": "stdout",
     "output_type": "stream",
     "text": [
      "building tree 14 of 180\n",
      "building tree 15 of 180\n",
      "building tree 16 of 180\n",
      "building tree 17 of 180\n",
      "building tree 18 of 180\n",
      "building tree 19 of 180\n",
      "building tree 20 of 180\n",
      "building tree 21 of 180\n",
      "building tree 22 of 180\n",
      "building tree 23 of 180\n",
      "building tree 24 of 180\n",
      "building tree 25 of 180\n",
      "building tree 26 of 180\n",
      "building tree 27 of 180\n",
      "building tree 28 of 180\n",
      "building tree 29 of 180\n",
      "building tree 30 of 180\n",
      "building tree 31 of 180\n",
      "building tree 32 of 180\n",
      "building tree 33 of 180\n",
      "building tree 34 of 180\n",
      "building tree 35 of 180\n",
      "building tree 36 of 180\n",
      "building tree 37 of 180\n",
      "building tree 38 of 180\n",
      "building tree 39 of 180\n",
      "building tree 40 of 180\n",
      "building tree 41 of 180\n",
      "building tree 42 of 180\n",
      "building tree 43 of 180\n",
      "building tree 44 of 180\n",
      "building tree 45 of 180\n",
      "building tree 46 of 180\n",
      "building tree 47 of 180\n",
      "building tree 48 of 180\n",
      "building tree 49 of 180\n",
      "building tree 50 of 180\n",
      "building tree 51 of 180\n",
      "building tree 52 of 180\n",
      "building tree 53 of 180\n",
      "building tree 54 of 180\n",
      "building tree 55 of 180\n",
      "building tree 56 of 180\n",
      "building tree 57 of 180\n",
      "building tree 58 of 180\n",
      "building tree 59 of 180\n",
      "building tree 60 of 180\n",
      "building tree 61 of 180\n",
      "building tree 62 of 180\n",
      "building tree 63 of 180\n",
      "building tree 64 of 180\n",
      "building tree 65 of 180\n",
      "building tree 66 of 180\n",
      "building tree 67 of 180\n"
     ]
    },
    {
     "name": "stderr",
     "output_type": "stream",
     "text": [
      "[Parallel(n_jobs=-1)]: Done  64 tasks      | elapsed:  3.4min\n"
     ]
    },
    {
     "name": "stdout",
     "output_type": "stream",
     "text": [
      "building tree 68 of 180\n",
      "building tree 69 of 180\n",
      "building tree 70 of 180\n",
      "building tree 71 of 180\n",
      "building tree 72 of 180\n",
      "building tree 73 of 180\n",
      "building tree 74 of 180\n",
      "building tree 75 of 180\n",
      "building tree 76 of 180\n",
      "building tree 77 of 180\n",
      "building tree 78 of 180\n",
      "building tree 79 of 180\n",
      "building tree 80 of 180\n",
      "building tree 81 of 180\n",
      "building tree 82 of 180\n",
      "building tree 83 of 180\n",
      "building tree 84 of 180\n",
      "building tree 85 of 180\n",
      "building tree 86 of 180\n",
      "building tree 87 of 180\n",
      "building tree 88 of 180\n",
      "building tree 89 of 180\n",
      "building tree 90 of 180\n",
      "building tree 91 of 180\n",
      "building tree 92 of 180\n",
      "building tree 93 of 180\n",
      "building tree 94 of 180\n",
      "building tree 95 of 180\n",
      "building tree 96 of 180\n",
      "building tree 97 of 180\n",
      "building tree 98 of 180\n",
      "building tree 99 of 180\n",
      "building tree 100 of 180\n",
      "building tree 101 of 180\n",
      "building tree 102 of 180\n",
      "building tree 103 of 180\n",
      "building tree 104 of 180\n",
      "building tree 105 of 180\n",
      "building tree 106 of 180\n",
      "building tree 107 of 180\n",
      "building tree 108 of 180\n",
      "building tree 109 of 180\n",
      "building tree 110 of 180\n",
      "building tree 111 of 180\n",
      "building tree 112 of 180\n",
      "building tree 113 of 180\n",
      "building tree 114 of 180\n",
      "building tree 115 of 180\n",
      "building tree 116 of 180\n",
      "building tree 117 of 180\n",
      "building tree 118 of 180\n",
      "building tree 119 of 180\n",
      "building tree 120 of 180\n",
      "building tree 121 of 180\n",
      "building tree 122 of 180\n",
      "building tree 123 of 180\n",
      "building tree 124 of 180\n",
      "building tree 125 of 180\n",
      "building tree 126 of 180\n",
      "building tree 127 of 180\n",
      "building tree 128 of 180\n",
      "building tree 129 of 180\n",
      "building tree 130 of 180\n",
      "building tree 131 of 180\n",
      "building tree 132 of 180\n",
      "building tree 133 of 180\n",
      "building tree 134 of 180\n",
      "building tree 135 of 180\n",
      "building tree 136 of 180\n",
      "building tree 137 of 180\n",
      "building tree 138 of 180\n",
      "building tree 139 of 180\n",
      "building tree 140 of 180\n",
      "building tree 141 of 180\n",
      "building tree 142 of 180\n",
      "building tree 143 of 180\n",
      "building tree 144 of 180\n",
      "building tree 145 of 180\n",
      "building tree 146 of 180\n",
      "building tree 147 of 180\n",
      "building tree 148 of 180\n",
      "building tree 149 of 180\n",
      "building tree 150 of 180\n",
      "building tree 151 of 180\n",
      "building tree 152 of 180\n",
      "building tree 153 of 180\n",
      "building tree 154 of 180\n",
      "building tree 155 of 180\n",
      "building tree 156 of 180\n",
      "building tree 157 of 180\n"
     ]
    },
    {
     "name": "stderr",
     "output_type": "stream",
     "text": [
      "[Parallel(n_jobs=-1)]: Done 154 tasks      | elapsed:  8.2min\n"
     ]
    },
    {
     "name": "stdout",
     "output_type": "stream",
     "text": [
      "building tree 158 of 180\n",
      "building tree 159 of 180\n",
      "building tree 160 of 180\n",
      "building tree 161 of 180\n",
      "building tree 162 of 180\n",
      "building tree 163 of 180\n",
      "building tree 164 of 180\n",
      "building tree 165 of 180\n",
      "building tree 166 of 180\n",
      "building tree 167 of 180\n",
      "building tree 168 of 180\n",
      "building tree 169 of 180\n",
      "building tree 170 of 180\n",
      "building tree 171 of 180\n",
      "building tree 172 of 180\n",
      "building tree 173 of 180\n",
      "building tree 174 of 180\n",
      "building tree 175 of 180\n",
      "building tree 176 of 180\n",
      "building tree 177 of 180\n",
      "building tree 178 of 180\n",
      "building tree 179 of 180\n",
      "building tree 180 of 180\n"
     ]
    },
    {
     "name": "stderr",
     "output_type": "stream",
     "text": [
      "[Parallel(n_jobs=-1)]: Done 180 out of 180 | elapsed:  9.5min finished\n",
      "[Parallel(n_jobs=4)]: Using backend ThreadingBackend with 4 concurrent workers.\n",
      "[Parallel(n_jobs=4)]: Done  10 tasks      | elapsed:    0.5s\n",
      "[Parallel(n_jobs=4)]: Done  64 tasks      | elapsed:    2.6s\n",
      "[Parallel(n_jobs=4)]: Done 154 tasks      | elapsed:    6.3s\n",
      "[Parallel(n_jobs=4)]: Done 180 out of 180 | elapsed:    7.3s finished\n",
      "[Parallel(n_jobs=4)]: Using backend ThreadingBackend with 4 concurrent workers.\n"
     ]
    },
    {
     "name": "stdout",
     "output_type": "stream",
     "text": [
      "0.7405551398897969\n"
     ]
    },
    {
     "name": "stderr",
     "output_type": "stream",
     "text": [
      "[Parallel(n_jobs=4)]: Done  10 tasks      | elapsed:    0.5s\n",
      "[Parallel(n_jobs=4)]: Done  64 tasks      | elapsed:    2.8s\n",
      "[Parallel(n_jobs=4)]: Done 154 tasks      | elapsed:    5.9s\n",
      "[Parallel(n_jobs=4)]: Done 180 out of 180 | elapsed:    6.7s finished\n"
     ]
    },
    {
     "data": {
      "text/plain": [
       "0.8702615054248133"
      ]
     },
     "execution_count": 17,
     "metadata": {},
     "output_type": "execute_result"
    }
   ],
   "source": [
    "rf = RandomForestClassifier(n_estimators=180,min_samples_leaf=3,max_features=0.5, verbose=5, n_jobs=-1)\n",
    "rf.fit(X_train_norm, y_train)\n",
    "\n",
    "preds = rf.predict(X_test_norm)\n",
    "fpr1, tpr1, thr1 = roc_curve(y_test['loan_status'], preds)\n",
    "auc1 = roc_auc_score(y_test['loan_status'], preds)\n",
    "\n",
    "print(auc1)\n",
    "rf.score(X_test_norm, y_test)"
   ]
  },
  {
   "cell_type": "code",
   "execution_count": 18,
   "metadata": {},
   "outputs": [],
   "source": [
    "fi = list(zip(X_train.columns.values, rf.feature_importances_))\n",
    "fi = sorted(fi, key=lambda x: -x[1])\n",
    "qw=pd.DataFrame(fi, columns=[\"Feature\",\"Importance\"])"
   ]
  },
  {
   "cell_type": "code",
   "execution_count": 19,
   "metadata": {},
   "outputs": [],
   "source": [
    "feat=qw['Feature'].tolist()"
   ]
  },
  {
   "cell_type": "code",
   "execution_count": 20,
   "metadata": {},
   "outputs": [],
   "source": [
    "df1=df[feat[:20]]\n",
    "X=df1\n",
    "y=df[['loan_status']]\n",
    "X_train, X_test, y_train, y_test = train_test_split(X, y,test_size=.30,random_state =123)\n",
    "\n",
    "# fit scaler on training data\n",
    "norm = MinMaxScaler().fit(X_train)\n",
    "\n",
    "# transform training data\n",
    "X_train_norm = norm.transform(X_train)\n",
    "\n",
    "# transform testing dataabs\n",
    "X_test_norm = norm.transform(X_test)"
   ]
  },
  {
   "cell_type": "code",
   "execution_count": 21,
   "metadata": {},
   "outputs": [
    {
     "name": "stderr",
     "output_type": "stream",
     "text": [
      "/home/ds/.local/lib/python3.6/site-packages/sklearn/utils/validation.py:73: DataConversionWarning: A column-vector y was passed when a 1d array was expected. Please change the shape of y to (n_samples, ), for example using ravel().\n",
      "  return f(**kwargs)\n"
     ]
    },
    {
     "data": {
      "text/plain": [
       "0.8350205660838045"
      ]
     },
     "execution_count": 21,
     "metadata": {},
     "output_type": "execute_result"
    }
   ],
   "source": [
    "from sklearn.ensemble import GradientBoostingClassifier\n",
    "gbc = GradientBoostingClassifier()\n",
    "gbc.fit(X_train_norm, y_train)\n",
    "gbc_score = gbc.score(X_test_norm, y_test)\n",
    "gbc_score"
   ]
  },
  {
   "cell_type": "code",
   "execution_count": 25,
   "metadata": {},
   "outputs": [
    {
     "name": "stdout",
     "output_type": "stream",
     "text": [
      "0.6574999094028949\n"
     ]
    }
   ],
   "source": [
    "preds = gbc.predict(X_test_norm)\n",
    "fpr1, tpr1, thr1 = roc_curve(y_test['loan_status'], preds)\n",
    "auc1 = roc_auc_score(y_test['loan_status'], preds)\n",
    "print(auc1)"
   ]
  },
  {
   "cell_type": "code",
   "execution_count": 22,
   "metadata": {},
   "outputs": [
    {
     "data": {
      "text/plain": [
       "0.9088831708706622"
      ]
     },
     "execution_count": 22,
     "metadata": {},
     "output_type": "execute_result"
    }
   ],
   "source": [
    "from catboost import CatBoostClassifier\n",
    "cbc = CatBoostClassifier(random_seed = 31)\n",
    "cbc.fit(X_train_norm, y_train, verbose=False)\n",
    "cbc_score = cbc.score(X_test_norm, y_test)\n",
    "cbc_score"
   ]
  },
  {
   "cell_type": "code",
   "execution_count": 24,
   "metadata": {},
   "outputs": [
    {
     "name": "stdout",
     "output_type": "stream",
     "text": [
      "0.8325020779558315\n"
     ]
    }
   ],
   "source": [
    "preds = cbc.predict(X_test_norm)\n",
    "fpr1, tpr1, thr1 = roc_curve(y_test['loan_status'], preds)\n",
    "auc1 = roc_auc_score(y_test['loan_status'], preds)\n",
    "print(auc1)"
   ]
  },
  {
   "cell_type": "code",
   "execution_count": null,
   "metadata": {},
   "outputs": [
    {
     "name": "stdout",
     "output_type": "stream",
     "text": [
      "Fitting 5 folds for each of 10 candidates, totalling 50 fits\n"
     ]
    },
    {
     "name": "stderr",
     "output_type": "stream",
     "text": [
      "[Parallel(n_jobs=1)]: Using backend SequentialBackend with 1 concurrent workers.\n"
     ]
    }
   ],
   "source": [
    "from sklearn.model_selection import GridSearchCV, RandomizedSearchCV\n",
    "\n",
    "cbc_grid = {'iterations':[10, 100, 200, 500, 1000],\n",
    "            'learning_rate': [0.1, 0.01]}\n",
    "\n",
    "\n",
    "cbc_clf = GridSearchCV(CatBoostClassifier(random_state = 31),\n",
    "                      param_grid = cbc_grid,\n",
    "                           cv=5,\n",
    "                           verbose=True)\n",
    "\n",
    "cbc_clf.fit(X_train_norm, y_train, verbose=False)\n",
    "cbc_tuned_score = cbc_clf.score(X_test_norm, y_test)\n",
    "cbc_tuned_score\n",
    "preds = cbc_clf.predict(X_test_norm)\n",
    "fpr1, tpr1, thr1 = roc_curve(y_test['loan_status'], preds)\n",
    "auc1 = roc_auc_score(y_test['loan_status'], preds)\n",
    "print(auc1)"
   ]
  },
  {
   "cell_type": "code",
   "execution_count": null,
   "metadata": {},
   "outputs": [
    {
     "name": "stdout",
     "output_type": "stream",
     "text": [
      "Fitting 5 folds for each of 100 candidates, totalling 500 fits\n"
     ]
    },
    {
     "name": "stderr",
     "output_type": "stream",
     "text": [
      "[Parallel(n_jobs=1)]: Using backend SequentialBackend with 1 concurrent workers.\n",
      "/home/ds/.local/lib/python3.6/site-packages/sklearn/model_selection/_validation.py:531: DataConversionWarning: A column-vector y was passed when a 1d array was expected. Please change the shape of y to (n_samples,), for example using ravel().\n",
      "  estimator.fit(X_train, y_train, **fit_params)\n",
      "/home/ds/.local/lib/python3.6/site-packages/sklearn/model_selection/_validation.py:531: DataConversionWarning: A column-vector y was passed when a 1d array was expected. Please change the shape of y to (n_samples,), for example using ravel().\n",
      "  estimator.fit(X_train, y_train, **fit_params)\n",
      "/home/ds/.local/lib/python3.6/site-packages/sklearn/model_selection/_validation.py:531: DataConversionWarning: A column-vector y was passed when a 1d array was expected. Please change the shape of y to (n_samples,), for example using ravel().\n",
      "  estimator.fit(X_train, y_train, **fit_params)\n"
     ]
    }
   ],
   "source": [
    "from sklearn.model_selection import GridSearchCV, RandomizedSearchCV\n",
    "rfcv_grid = {\"n_estimators\": np.arange(500, 2000, 100),\n",
    "           \"max_depth\": [None, 3, 5, 10],\n",
    "           \"min_samples_split\": np.arange(2, 20, 2),\n",
    "           \"min_samples_leaf\": np.arange(1, 20, 2)}\n",
    "\n",
    "rfcv_clf = RandomizedSearchCV(RandomForestClassifier(),\n",
    "                           param_distributions = rfcv_grid,\n",
    "                           cv=5,\n",
    "                           n_iter = 100,\n",
    "                           verbose=True)\n",
    "\n",
    "rfcv_clf.fit(X_train_norm, y_train)\n",
    "ranf_tuned_score = rfcv_clf.score(X_test_norm, y_test)\n",
    "ranf_tuned_score\n",
    "preds = rfcv_clf.predict(X_test_norm)\n",
    "fpr1, tpr1, thr1 = roc_curve(y_test['loan_status'], preds)\n",
    "auc1 = roc_auc_score(y_test['loan_status'], preds)\n",
    "print(auc1)"
   ]
  },
  {
   "cell_type": "code",
   "execution_count": null,
   "metadata": {},
   "outputs": [],
   "source": []
  }
 ],
 "metadata": {
  "kernelspec": {
   "display_name": "Python 3",
   "language": "python",
   "name": "python3"
  },
  "language_info": {
   "codemirror_mode": {
    "name": "ipython",
    "version": 3
   },
   "file_extension": ".py",
   "mimetype": "text/x-python",
   "name": "python",
   "nbconvert_exporter": "python",
   "pygments_lexer": "ipython3",
   "version": "3.6.9"
  }
 },
 "nbformat": 4,
 "nbformat_minor": 2
}
