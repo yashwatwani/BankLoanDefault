{
 "cells": [
  {
   "cell_type": "code",
   "execution_count": 2,
   "metadata": {},
   "outputs": [],
   "source": [
    "import pandas as pd\n",
    "import numpy as np\n",
    "from scipy.stats import chisquare\n",
    "import seaborn as sns\n",
    "import matplotlib.pyplot as plt\n",
    "import matplotlib as mpl\n",
    "import matplotlib.pyplot as plt\n",
    "import matplotlib.pylab as pylab\n",
    "import seaborn as sns"
   ]
  },
  {
   "cell_type": "code",
   "execution_count": 3,
   "metadata": {},
   "outputs": [],
   "source": [
    "# term label encoding"
   ]
  },
  {
   "cell_type": "code",
   "execution_count": 4,
   "metadata": {},
   "outputs": [],
   "source": [
    "df=pd.read_csv('train_indessa.csv')"
   ]
  },
  {
   "cell_type": "code",
   "execution_count": 4,
   "metadata": {},
   "outputs": [],
   "source": [
    "# emp_length label encoding"
   ]
  },
  {
   "cell_type": "code",
   "execution_count": 5,
   "metadata": {},
   "outputs": [],
   "source": [
    "# home_owner ship drop or label encoding"
   ]
  },
  {
   "cell_type": "code",
   "execution_count": 6,
   "metadata": {},
   "outputs": [],
   "source": [
    "# verification drop or label encoding"
   ]
  },
  {
   "cell_type": "code",
   "execution_count": 7,
   "metadata": {},
   "outputs": [],
   "source": [
    "# purpose drop or label encoding"
   ]
  },
  {
   "cell_type": "code",
   "execution_count": 8,
   "metadata": {},
   "outputs": [
    {
     "data": {
      "text/plain": [
       "debt_consolidation    314989\n",
       "credit_card           123670\n",
       "home_improvement       31087\n",
       "other                  25652\n",
       "major_purchase         10284\n",
       "small_business          6146\n",
       "car                     5266\n",
       "medical                 5117\n",
       "moving                  3243\n",
       "vacation                2812\n",
       "house                   2170\n",
       "wedding                 1401\n",
       "renewable_energy         331\n",
       "educational              260\n",
       "Name: purpose, dtype: int64"
      ]
     },
     "execution_count": 8,
     "metadata": {},
     "output_type": "execute_result"
    }
   ],
   "source": [
    "df['purpose'].value_counts()"
   ]
  },
  {
   "cell_type": "code",
   "execution_count": 9,
   "metadata": {},
   "outputs": [],
   "source": [
    "# df['purpose'] = df_duo['purpose'].map({\n",
    "#     'educational' : 'lev1',\n",
    "#     'wedding' : 'lev1',\n",
    "#     'house' : 'lev2',\n",
    "#     'renewable_energy' : 'lev2',\n",
    "#     'car' : 'lev2',\n",
    "#     'small_business' : 'lev3',\n",
    "#     'major_purchase' : 'lev3',\n",
    "#     'moving' : 'lev3',\n",
    "#     'vacation' : 'lev4',\n",
    "#     'other' : 'lev4',\n",
    "#     'medical' : 'lev4',\n",
    "#     'home_improvement' : 'lev5',\n",
    "#     'debt_consolidation' : 'lev5',\n",
    "#     'credit_card' : 'lev5'\n",
    "# })\n",
    "\n",
    "#MApping"
   ]
  },
  {
   "cell_type": "code",
   "execution_count": 10,
   "metadata": {},
   "outputs": [],
   "source": [
    "# application type label encoding"
   ]
  },
  {
   "cell_type": "code",
   "execution_count": 12,
   "metadata": {},
   "outputs": [],
   "source": [
    "# lastweek pay clean it"
   ]
  },
  {
   "cell_type": "code",
   "execution_count": 15,
   "metadata": {},
   "outputs": [],
   "source": [
    "# title, zip code, adress, batch_enrolled, sub_grade, desc,collection recovery fee  drop"
   ]
  },
  {
   "cell_type": "code",
   "execution_count": 14,
   "metadata": {},
   "outputs": [
    {
     "data": {
      "text/plain": [
       "f    274018\n",
       "w    258410\n",
       "Name: initial_list_status, dtype: int64"
      ]
     },
     "execution_count": 14,
     "metadata": {},
     "output_type": "execute_result"
    }
   ],
   "source": [
    "df['initial_list_status'].value_counts() # label encode"
   ]
  },
  {
   "cell_type": "code",
   "execution_count": 16,
   "metadata": {},
   "outputs": [],
   "source": [
    "# recoveries"
   ]
  },
  {
   "cell_type": "code",
   "execution_count": 17,
   "metadata": {},
   "outputs": [],
   "source": [
    "#df['sanctinoned'] = (df['funded_amnt'] + df['funded_amnt_inv']).div(2)\n",
    "#df = log_transform(df,'sanctioned')"
   ]
  },
  {
   "cell_type": "code",
   "execution_count": 18,
   "metadata": {},
   "outputs": [],
   "source": [
    "# open_acc frop it"
   ]
  },
  {
   "cell_type": "code",
   "execution_count": 22,
   "metadata": {},
   "outputs": [],
   "source": [
    "#total_acc  log_transfom"
   ]
  },
  {
   "cell_type": "code",
   "execution_count": 23,
   "metadata": {},
   "outputs": [
    {
     "data": {
      "text/plain": [
       "9.0     48345\n",
       "10.0    47212\n",
       "8.0     46065\n",
       "11.0    43384\n",
       "7.0     40501\n",
       "        ...  \n",
       "70.0        1\n",
       "56.0        1\n",
       "82.0        1\n",
       "75.0        1\n",
       "68.0        1\n",
       "Name: open_acc, Length: 73, dtype: int64"
      ]
     },
     "execution_count": 23,
     "metadata": {},
     "output_type": "execute_result"
    }
   ],
   "source": [
    "df['open_acc'].value_counts()"
   ]
  },
  {
   "cell_type": "code",
   "execution_count": 5,
   "metadata": {},
   "outputs": [
    {
     "data": {
      "text/plain": [
       "13500.0     1585\n",
       "14500.0     1576\n",
       "10000.0     1569\n",
       "12000.0     1564\n",
       "15000.0     1557\n",
       "            ... \n",
       "76454.0        1\n",
       "9725.0         1\n",
       "305800.0       1\n",
       "19111.0        1\n",
       "16163.0        1\n",
       "Name: total_rev_hi_lim, Length: 14697, dtype: int64"
      ]
     },
     "execution_count": 5,
     "metadata": {},
     "output_type": "execute_result"
    }
   ],
   "source": [
    "df['total_rev_hi_lim'].value_counts()"
   ]
  },
  {
   "cell_type": "code",
   "execution_count": 24,
   "metadata": {},
   "outputs": [],
   "source": [
    "# total_rev_hi_lim drop or see once"
   ]
  },
  {
   "cell_type": "code",
   "execution_count": 25,
   "metadata": {},
   "outputs": [],
   "source": [
    "# annual_inc log"
   ]
  },
  {
   "cell_type": "code",
   "execution_count": 26,
   "metadata": {},
   "outputs": [],
   "source": [
    "# int_rate log"
   ]
  },
  {
   "cell_type": "code",
   "execution_count": 27,
   "metadata": {},
   "outputs": [],
   "source": [
    "# revol_util drop"
   ]
  },
  {
   "cell_type": "code",
   "execution_count": 28,
   "metadata": {},
   "outputs": [],
   "source": [
    "# tot_coll_amnt # drop"
   ]
  },
  {
   "cell_type": "code",
   "execution_count": 29,
   "metadata": {},
   "outputs": [],
   "source": [
    "#tital curr_bal log"
   ]
  },
  {
   "cell_type": "code",
   "execution_count": 30,
   "metadata": {},
   "outputs": [],
   "source": [
    "# total_rec_late_fee drop"
   ]
  },
  {
   "cell_type": "code",
   "execution_count": 32,
   "metadata": {},
   "outputs": [],
   "source": [
    "#df['annual%laon_amnt'] = df['annual_inc'].div(df['loan_amnt'])"
   ]
  },
  {
   "cell_type": "code",
   "execution_count": 33,
   "metadata": {},
   "outputs": [],
   "source": [
    "# #df['payment_completetion']\n",
    "# df.insert(0, 'payment_completion', (df['last_week_pay']/(df['term']/12*52+1))*100)\n",
    "# df['payment_completion'] = df['payment_completion'].astype(int)"
   ]
  },
  {
   "cell_type": "code",
   "execution_count": null,
   "metadata": {},
   "outputs": [],
   "source": []
  }
 ],
 "metadata": {
  "kernelspec": {
   "display_name": "Python 3",
   "language": "python",
   "name": "python3"
  },
  "language_info": {
   "codemirror_mode": {
    "name": "ipython",
    "version": 3
   },
   "file_extension": ".py",
   "mimetype": "text/x-python",
   "name": "python",
   "nbconvert_exporter": "python",
   "pygments_lexer": "ipython3",
   "version": "3.6.9"
  }
 },
 "nbformat": 4,
 "nbformat_minor": 2
}
