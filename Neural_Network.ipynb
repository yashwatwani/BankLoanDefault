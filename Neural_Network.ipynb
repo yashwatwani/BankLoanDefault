{
 "cells": [
  {
   "cell_type": "code",
   "execution_count": 2,
   "metadata": {},
   "outputs": [],
   "source": [
    "import pandas as pd\n",
    "df=pd.read_csv('train_indessa.csv')"
   ]
  },
  {
   "cell_type": "code",
   "execution_count": 3,
   "metadata": {},
   "outputs": [],
   "source": [
    "df.drop(['mths_since_last_delinq','mths_since_last_major_derog','mths_since_last_record','desc',\n",
    "         'verification_status_joint','batch_enrolled','sub_grade','title','zip_code','addr_state',\n",
    "        'emp_title'],axis=1,inplace=True)"
   ]
  },
  {
   "cell_type": "code",
   "execution_count": 4,
   "metadata": {},
   "outputs": [],
   "source": [
    "df['emp_length'].replace('n/a', '0', inplace=True)\n",
    "df['emp_length'].replace(to_replace='\\+ years', value='', regex=True, inplace=True)\n",
    "df['emp_length'].replace(to_replace=' years', value='', regex=True, inplace=True)\n",
    "df['emp_length'].replace(to_replace='< 1 year', value='0', regex=True, inplace=True)\n",
    "df['emp_length'].replace(to_replace=' year', value='', regex=True, inplace=True)\n",
    "\n",
    "df['emp_length'].fillna(df.emp_length.median(),inplace=True)\n",
    "\n",
    "df['emp_length'] = pd.to_numeric(df['emp_length'], errors='coerce')"
   ]
  },
  {
   "cell_type": "code",
   "execution_count": 5,
   "metadata": {},
   "outputs": [],
   "source": [
    "df['last_week_pay'] = df['last_week_pay'].str.extract('(\\d+)', expand=False)\n",
    "df['last_week_pay'].fillna(df['last_week_pay'].median(), inplace=True)\n",
    "df['last_week_pay'] = pd.to_numeric(df['last_week_pay'], errors='coerce')"
   ]
  },
  {
   "cell_type": "code",
   "execution_count": 6,
   "metadata": {},
   "outputs": [
    {
     "name": "stdout",
     "output_type": "stream",
     "text": [
      "Imputation with Median: loan_amnt\n",
      "Imputation with Median: funded_amnt\n",
      "Imputation with Median: int_rate\n",
      "Imputation with Median: annual_inc\n",
      "Imputation with Median: dti\n",
      "Imputation with Median: open_acc\n",
      "Imputation with Median: revol_bal\n",
      "Imputation with Median: revol_util\n",
      "Imputation with Median: total_acc\n",
      "Imputation with Median: total_rec_int\n",
      "Imputation with Median: tot_coll_amt\n",
      "Imputation with Median: tot_cur_bal\n",
      "Imputation with Median: total_rev_hi_lim\n"
     ]
    }
   ],
   "source": [
    "cols = ['loan_amnt', 'funded_amnt', 'int_rate',  'annual_inc', 'dti',  'open_acc', 'revol_bal', 'revol_util', 'total_acc',\n",
    "        'total_rec_int','tot_coll_amt', 'tot_cur_bal', 'total_rev_hi_lim']\n",
    "for col in cols:\n",
    "    print('Imputation with Median: %s' % (col))\n",
    "    df[col].fillna(df[col].median(), inplace=True)"
   ]
  },
  {
   "cell_type": "code",
   "execution_count": 7,
   "metadata": {},
   "outputs": [
    {
     "name": "stdout",
     "output_type": "stream",
     "text": [
      "Imputation with Zero: acc_now_delinq\n",
      "Imputation with Zero: collections_12_mths_ex_med\n",
      "Imputation with Zero: delinq_2yrs\n",
      "Imputation with Zero: inq_last_6mths\n",
      "Imputation with Zero: pub_rec\n"
     ]
    }
   ],
   "source": [
    "cols = ['acc_now_delinq', 'collections_12_mths_ex_med',\n",
    "       'delinq_2yrs','inq_last_6mths','pub_rec']\n",
    "for col in cols:\n",
    "    print('Imputation with Zero: %s' % (col))\n",
    "    df[col].fillna(0, inplace=True)"
   ]
  },
  {
   "cell_type": "code",
   "execution_count": 8,
   "metadata": {},
   "outputs": [],
   "source": [
    "df['term'].replace(to_replace=' months', value='', regex=True, inplace=True)\n",
    "df['term'] = pd.to_numeric(df['term'], errors='coerce')"
   ]
  },
  {
   "cell_type": "code",
   "execution_count": 9,
   "metadata": {},
   "outputs": [
    {
     "name": "stdout",
     "output_type": "stream",
     "text": [
      "Encoded:  home_ownership\n",
      "Encoded:  application_type\n",
      "Encoded:  initial_list_status\n",
      "Encoded:  pymnt_plan\n",
      "Encoded:  purpose\n",
      "Encoded:  initial_list_status\n",
      "Encoded:  grade\n",
      "Encoded:  verification_status\n"
     ]
    }
   ],
   "source": [
    "import numpy as np\n",
    "# Encode Label for Classifier\n",
    "from sklearn.preprocessing import LabelEncoder\n",
    "le1 = {}\n",
    "le=['home_ownership','application_type','initial_list_status','pymnt_plan','purpose','initial_list_status','grade','verification_status']\n",
    "\n",
    "for col in le:\n",
    "    le1[col] = LabelEncoder()\n",
    "    df[col] = le1[col].fit_transform(df[col])\n",
    "    le1[col].classes_ = np.append(le1[col].classes_, 'other')\n",
    "    \n",
    "    print('Encoded: ', col)"
   ]
  },
  {
   "cell_type": "code",
   "execution_count": 10,
   "metadata": {},
   "outputs": [],
   "source": [
    "# Interest paid so far\n",
    "df['int_paid'] = df['total_rec_int'] + df['total_rec_late_fee']\n",
    "\n",
    "# Total number of available/unused 'credit lines'\n",
    "df['avl_lines'] = df['total_acc'] - df['open_acc']\n",
    "\n",
    "df['sanctinoned'] = (df['funded_amnt'] + df['funded_amnt_inv']).div(2)\n",
    "\n",
    "df['total_repayment_progress'] = ((df['last_week_pay']/(df['term']/12*52+1))*100) + ((df['recoveries']/df['funded_amnt_inv']) * 100)\n",
    "\n",
    "df.insert(0, 'payment_completion', (df['last_week_pay']/(df['term']/12*52+1))*100)\n",
    "\n",
    "df['loan_to_income'] = df['annual_inc']/df['funded_amnt_inv']\n"
   ]
  },
  {
   "cell_type": "code",
   "execution_count": 11,
   "metadata": {},
   "outputs": [],
   "source": [
    "df.replace([np.inf, -np.inf], 0, inplace=True)"
   ]
  },
  {
   "cell_type": "code",
   "execution_count": 12,
   "metadata": {},
   "outputs": [
    {
     "data": {
      "text/plain": [
       "payment_completion              0\n",
       "member_id                       0\n",
       "loan_amnt                       0\n",
       "funded_amnt                     0\n",
       "funded_amnt_inv                 0\n",
       "term                            0\n",
       "int_rate                        0\n",
       "grade                           0\n",
       "emp_length                      0\n",
       "home_ownership                  0\n",
       "annual_inc                      0\n",
       "verification_status             0\n",
       "pymnt_plan                      0\n",
       "purpose                         0\n",
       "dti                             0\n",
       "delinq_2yrs                     0\n",
       "inq_last_6mths                  0\n",
       "open_acc                        0\n",
       "pub_rec                         0\n",
       "revol_bal                       0\n",
       "revol_util                      0\n",
       "total_acc                       0\n",
       "initial_list_status             0\n",
       "total_rec_int                   0\n",
       "total_rec_late_fee              0\n",
       "recoveries                      0\n",
       "collection_recovery_fee         0\n",
       "collections_12_mths_ex_med      0\n",
       "application_type                0\n",
       "last_week_pay                   0\n",
       "acc_now_delinq                  0\n",
       "tot_coll_amt                    0\n",
       "tot_cur_bal                     0\n",
       "total_rev_hi_lim                0\n",
       "loan_status                     0\n",
       "int_paid                        0\n",
       "avl_lines                       0\n",
       "sanctinoned                     0\n",
       "total_repayment_progress      113\n",
       "loan_to_income                  0\n",
       "dtype: int64"
      ]
     },
     "execution_count": 12,
     "metadata": {},
     "output_type": "execute_result"
    }
   ],
   "source": [
    "df.isnull().sum()"
   ]
  },
  {
   "cell_type": "code",
   "execution_count": 13,
   "metadata": {},
   "outputs": [],
   "source": [
    "df.fillna(0,inplace=True)"
   ]
  },
  {
   "cell_type": "code",
   "execution_count": 14,
   "metadata": {},
   "outputs": [
    {
     "data": {
      "text/plain": [
       "payment_completion            0\n",
       "member_id                     0\n",
       "loan_amnt                     0\n",
       "funded_amnt                   0\n",
       "funded_amnt_inv               0\n",
       "term                          0\n",
       "int_rate                      0\n",
       "grade                         0\n",
       "emp_length                    0\n",
       "home_ownership                0\n",
       "annual_inc                    0\n",
       "verification_status           0\n",
       "pymnt_plan                    0\n",
       "purpose                       0\n",
       "dti                           0\n",
       "delinq_2yrs                   0\n",
       "inq_last_6mths                0\n",
       "open_acc                      0\n",
       "pub_rec                       0\n",
       "revol_bal                     0\n",
       "revol_util                    0\n",
       "total_acc                     0\n",
       "initial_list_status           0\n",
       "total_rec_int                 0\n",
       "total_rec_late_fee            0\n",
       "recoveries                    0\n",
       "collection_recovery_fee       0\n",
       "collections_12_mths_ex_med    0\n",
       "application_type              0\n",
       "last_week_pay                 0\n",
       "acc_now_delinq                0\n",
       "tot_coll_amt                  0\n",
       "tot_cur_bal                   0\n",
       "total_rev_hi_lim              0\n",
       "loan_status                   0\n",
       "int_paid                      0\n",
       "avl_lines                     0\n",
       "sanctinoned                   0\n",
       "total_repayment_progress      0\n",
       "loan_to_income                0\n",
       "dtype: int64"
      ]
     },
     "execution_count": 14,
     "metadata": {},
     "output_type": "execute_result"
    }
   ],
   "source": [
    "df.isnull().sum()"
   ]
  },
  {
   "cell_type": "code",
   "execution_count": 15,
   "metadata": {},
   "outputs": [],
   "source": [
    "from sklearn.model_selection import train_test_split\n",
    "X=df.drop(['loan_status','member_id'],axis=1)\n",
    "y=df[['loan_status']]\n",
    "X_train, X_test, y_train, y_test = train_test_split(X, y,test_size=.20,random_state =123)"
   ]
  },
  {
   "cell_type": "code",
   "execution_count": 16,
   "metadata": {},
   "outputs": [],
   "source": [
    "from sklearn.preprocessing import MinMaxScaler\n",
    "\n",
    "# fit scaler on training data\n",
    "norm = MinMaxScaler().fit(X_train)\n",
    "\n",
    "# transform training data\n",
    "X_train_norm = norm.transform(X_train)\n",
    "\n",
    "# transform testing dataabs\n",
    "X_test_norm = norm.transform(X_test)"
   ]
  },
  {
   "cell_type": "code",
   "execution_count": 17,
   "metadata": {},
   "outputs": [],
   "source": [
    "from sklearn.ensemble import RandomForestClassifier\n",
    "from sklearn.metrics import roc_curve, roc_auc_score"
   ]
  },
  {
   "cell_type": "code",
   "execution_count": 18,
   "metadata": {},
   "outputs": [
    {
     "name": "stderr",
     "output_type": "stream",
     "text": [
      "/usr/lib/python3/dist-packages/ipykernel_launcher.py:2: DataConversionWarning: A column-vector y was passed when a 1d array was expected. Please change the shape of y to (n_samples,), for example using ravel().\n",
      "  \n",
      "[Parallel(n_jobs=-1)]: Using backend ThreadingBackend with 4 concurrent workers.\n"
     ]
    },
    {
     "name": "stdout",
     "output_type": "stream",
     "text": [
      "building tree 1 of 180\n",
      "building tree 2 of 180\n",
      "building tree 3 of 180\n",
      "building tree 4 of 180\n",
      "building tree 5 of 180\n",
      "building tree 6 of 180\n",
      "building tree 7 of 180\n",
      "building tree 8 of 180\n",
      "building tree 9 of 180\n",
      "building tree 10 of 180\n",
      "building tree 11 of 180\n",
      "building tree 12 of 180\n",
      "building tree 13 of 180\n",
      "building tree 14 of 180\n"
     ]
    },
    {
     "name": "stderr",
     "output_type": "stream",
     "text": [
      "[Parallel(n_jobs=-1)]: Done  10 tasks      | elapsed:   36.9s\n"
     ]
    },
    {
     "name": "stdout",
     "output_type": "stream",
     "text": [
      "building tree 15 of 180\n",
      "building tree 16 of 180\n",
      "building tree 17 of 180\n",
      "building tree 18 of 180\n",
      "building tree 19 of 180\n",
      "building tree 20 of 180\n",
      "building tree 21 of 180\n",
      "building tree 22 of 180\n",
      "building tree 23 of 180\n",
      "building tree 24 of 180\n",
      "building tree 25 of 180\n",
      "building tree 26 of 180\n",
      "building tree 27 of 180\n",
      "building tree 28 of 180\n",
      "building tree 29 of 180\n",
      "building tree 30 of 180\n",
      "building tree 31 of 180\n",
      "building tree 32 of 180\n",
      "building tree 33 of 180\n",
      "building tree 34 of 180\n",
      "building tree 35 of 180\n",
      "building tree 36 of 180\n",
      "building tree 37 of 180\n",
      "building tree 38 of 180\n",
      "building tree 39 of 180\n",
      "building tree 40 of 180\n",
      "building tree 41 of 180\n",
      "building tree 42 of 180\n",
      "building tree 43 of 180\n",
      "building tree 44 of 180\n",
      "building tree 45 of 180\n",
      "building tree 46 of 180\n",
      "building tree 47 of 180\n",
      "building tree 48 of 180\n",
      "building tree 49 of 180\n",
      "building tree 50 of 180\n",
      "building tree 51 of 180\n",
      "building tree 52 of 180\n",
      "building tree 53 of 180\n",
      "building tree 54 of 180\n",
      "building tree 55 of 180\n",
      "building tree 56 of 180\n",
      "building tree 57 of 180\n",
      "building tree 58 of 180\n",
      "building tree 59 of 180\n",
      "building tree 60 of 180\n",
      "building tree 61 of 180\n",
      "building tree 62 of 180\n",
      "building tree 63 of 180\n",
      "building tree 64 of 180\n",
      "building tree 65 of 180\n",
      "building tree 66 of 180\n",
      "building tree 67 of 180\n"
     ]
    },
    {
     "name": "stderr",
     "output_type": "stream",
     "text": [
      "[Parallel(n_jobs=-1)]: Done  64 tasks      | elapsed:  3.4min\n"
     ]
    },
    {
     "name": "stdout",
     "output_type": "stream",
     "text": [
      "building tree 68 of 180\n",
      "building tree 69 of 180\n",
      "building tree 70 of 180\n",
      "building tree 71 of 180\n",
      "building tree 72 of 180\n",
      "building tree 73 of 180\n",
      "building tree 74 of 180\n",
      "building tree 75 of 180\n",
      "building tree 76 of 180\n",
      "building tree 77 of 180\n",
      "building tree 78 of 180\n",
      "building tree 79 of 180\n",
      "building tree 80 of 180\n",
      "building tree 81 of 180\n",
      "building tree 82 of 180\n",
      "building tree 83 of 180\n",
      "building tree 84 of 180\n",
      "building tree 85 of 180\n",
      "building tree 86 of 180\n",
      "building tree 87 of 180\n",
      "building tree 88 of 180\n",
      "building tree 89 of 180\n",
      "building tree 90 of 180\n",
      "building tree 91 of 180\n",
      "building tree 92 of 180\n",
      "building tree 93 of 180\n",
      "building tree 94 of 180\n",
      "building tree 95 of 180\n",
      "building tree 96 of 180\n",
      "building tree 97 of 180\n",
      "building tree 98 of 180\n",
      "building tree 99 of 180\n",
      "building tree 100 of 180\n",
      "building tree 101 of 180\n",
      "building tree 102 of 180\n",
      "building tree 103 of 180\n",
      "building tree 104 of 180\n",
      "building tree 105 of 180\n",
      "building tree 106 of 180\n",
      "building tree 107 of 180\n",
      "building tree 108 of 180\n",
      "building tree 109 of 180\n",
      "building tree 110 of 180\n",
      "building tree 111 of 180\n",
      "building tree 112 of 180\n",
      "building tree 113 of 180\n",
      "building tree 114 of 180\n",
      "building tree 115 of 180\n",
      "building tree 116 of 180\n",
      "building tree 117 of 180\n",
      "building tree 118 of 180\n",
      "building tree 119 of 180\n",
      "building tree 120 of 180\n",
      "building tree 121 of 180\n",
      "building tree 122 of 180\n",
      "building tree 123 of 180\n",
      "building tree 124 of 180\n",
      "building tree 125 of 180\n",
      "building tree 126 of 180\n",
      "building tree 127 of 180\n",
      "building tree 128 of 180\n",
      "building tree 129 of 180\n",
      "building tree 130 of 180\n",
      "building tree 131 of 180\n",
      "building tree 132 of 180\n",
      "building tree 133 of 180\n",
      "building tree 134 of 180\n",
      "building tree 135 of 180\n",
      "building tree 136 of 180\n",
      "building tree 137 of 180\n",
      "building tree 138 of 180\n",
      "building tree 139 of 180\n",
      "building tree 140 of 180\n",
      "building tree 141 of 180\n",
      "building tree 142 of 180\n",
      "building tree 143 of 180\n",
      "building tree 144 of 180\n",
      "building tree 145 of 180\n",
      "building tree 146 of 180\n",
      "building tree 147 of 180\n",
      "building tree 148 of 180\n",
      "building tree 149 of 180\n",
      "building tree 150 of 180\n",
      "building tree 151 of 180\n",
      "building tree 152 of 180\n",
      "building tree 153 of 180\n",
      "building tree 154 of 180\n",
      "building tree 155 of 180\n",
      "building tree 156 of 180\n",
      "building tree 157 of 180\n"
     ]
    },
    {
     "name": "stderr",
     "output_type": "stream",
     "text": [
      "[Parallel(n_jobs=-1)]: Done 154 tasks      | elapsed:  7.3min\n"
     ]
    },
    {
     "name": "stdout",
     "output_type": "stream",
     "text": [
      "building tree 158 of 180\n",
      "building tree 159 of 180\n",
      "building tree 160 of 180\n",
      "building tree 161 of 180\n",
      "building tree 162 of 180\n",
      "building tree 163 of 180\n",
      "building tree 164 of 180\n",
      "building tree 165 of 180\n",
      "building tree 166 of 180\n",
      "building tree 167 of 180\n",
      "building tree 168 of 180\n",
      "building tree 169 of 180\n",
      "building tree 170 of 180\n",
      "building tree 171 of 180\n",
      "building tree 172 of 180\n",
      "building tree 173 of 180\n",
      "building tree 174 of 180\n",
      "building tree 175 of 180\n",
      "building tree 176 of 180\n",
      "building tree 177 of 180\n",
      "building tree 178 of 180\n",
      "building tree 179 of 180\n",
      "building tree 180 of 180\n"
     ]
    },
    {
     "name": "stderr",
     "output_type": "stream",
     "text": [
      "[Parallel(n_jobs=-1)]: Done 180 out of 180 | elapsed:  8.4min finished\n",
      "[Parallel(n_jobs=4)]: Using backend ThreadingBackend with 4 concurrent workers.\n",
      "[Parallel(n_jobs=4)]: Done  10 tasks      | elapsed:    0.2s\n",
      "[Parallel(n_jobs=4)]: Done  64 tasks      | elapsed:    1.3s\n",
      "[Parallel(n_jobs=4)]: Done 154 tasks      | elapsed:    3.0s\n",
      "[Parallel(n_jobs=4)]: Done 180 out of 180 | elapsed:    3.5s finished\n",
      "[Parallel(n_jobs=4)]: Using backend ThreadingBackend with 4 concurrent workers.\n"
     ]
    },
    {
     "name": "stdout",
     "output_type": "stream",
     "text": [
      "0.744598815241591\n"
     ]
    },
    {
     "name": "stderr",
     "output_type": "stream",
     "text": [
      "[Parallel(n_jobs=4)]: Done  10 tasks      | elapsed:    0.2s\n",
      "[Parallel(n_jobs=4)]: Done  64 tasks      | elapsed:    1.3s\n",
      "[Parallel(n_jobs=4)]: Done 154 tasks      | elapsed:    3.0s\n",
      "[Parallel(n_jobs=4)]: Done 180 out of 180 | elapsed:    3.5s finished\n"
     ]
    },
    {
     "data": {
      "text/plain": [
       "0.8720582987434968"
      ]
     },
     "execution_count": 18,
     "metadata": {},
     "output_type": "execute_result"
    }
   ],
   "source": [
    "rf = RandomForestClassifier(n_estimators=180,min_samples_leaf=3,max_features=0.5, verbose=5, n_jobs=-1)\n",
    "rf.fit(X_train_norm, y_train)\n",
    "\n",
    "preds = rf.predict(X_test_norm)\n",
    "fpr1, tpr1, thr1 = roc_curve(y_test['loan_status'], preds)\n",
    "auc1 = roc_auc_score(y_test['loan_status'], preds)\n",
    "\n",
    "print(auc1)\n",
    "rf.score(X_test_norm, y_test)"
   ]
  },
  {
   "cell_type": "code",
   "execution_count": 19,
   "metadata": {},
   "outputs": [],
   "source": [
    "fi = list(zip(X_train.columns.values, rf.feature_importances_))\n",
    "fi = sorted(fi, key=lambda x: -x[1])\n",
    "qw=pd.DataFrame(fi, columns=[\"Feature\",\"Importance\"])"
   ]
  },
  {
   "cell_type": "code",
   "execution_count": 20,
   "metadata": {},
   "outputs": [],
   "source": [
    "feat=qw['Feature'].tolist()"
   ]
  },
  {
   "cell_type": "code",
   "execution_count": 21,
   "metadata": {},
   "outputs": [],
   "source": [
    "df1=df[feat[:20]]\n",
    "X=df1\n",
    "y=df[['loan_status']]\n",
    "X_train, X_test, y_train, y_test = train_test_split(X, y,test_size=.30,random_state =123)\n",
    "\n",
    "# fit scaler on training data\n",
    "norm = MinMaxScaler().fit(X_train)\n",
    "\n",
    "# transform training data\n",
    "X_train_norm = norm.transform(X_train)\n",
    "\n",
    "# transform testing dataabs\n",
    "X_test_norm = norm.transform(X_test)"
   ]
  },
  {
   "cell_type": "code",
   "execution_count": 22,
   "metadata": {},
   "outputs": [
    {
     "name": "stderr",
     "output_type": "stream",
     "text": [
      "/home/ds/.local/lib/python3.6/site-packages/sklearn/utils/validation.py:73: DataConversionWarning: A column-vector y was passed when a 1d array was expected. Please change the shape of y to (n_samples, ), for example using ravel().\n",
      "  return f(**kwargs)\n"
     ]
    },
    {
     "data": {
      "text/plain": [
       "0.7966868884172568"
      ]
     },
     "execution_count": 22,
     "metadata": {},
     "output_type": "execute_result"
    }
   ],
   "source": [
    "from sklearn import svm\n",
    "svc_clf = svm.SVC(random_state = 7)\n",
    "svc_clf.fit(X_train_norm, y_train)\n",
    "svc_score = svc_clf.score(X_test_norm, y_test)\n",
    "svc_score"
   ]
  },
  {
   "cell_type": "code",
   "execution_count": 23,
   "metadata": {},
   "outputs": [
    {
     "data": {
      "text/plain": [
       "array([0, 0, 0, ..., 1, 0, 0])"
      ]
     },
     "execution_count": 23,
     "metadata": {},
     "output_type": "execute_result"
    }
   ],
   "source": [
    "preds"
   ]
  },
  {
   "cell_type": "code",
   "execution_count": 22,
   "metadata": {},
   "outputs": [
    {
     "data": {
      "text/plain": [
       "(372699, 20)"
      ]
     },
     "execution_count": 22,
     "metadata": {},
     "output_type": "execute_result"
    }
   ],
   "source": [
    "X_train.shape"
   ]
  },
  {
   "cell_type": "code",
   "execution_count": 24,
   "metadata": {},
   "outputs": [
    {
     "name": "stdout",
     "output_type": "stream",
     "text": [
      "Train on 372699 samples\n",
      "Epoch 1/50\n",
      "372699/372699 [==============================] - 13s 34us/sample - loss: 0.4472 - acc: 0.8013\n",
      "Epoch 2/50\n",
      "372699/372699 [==============================] - 12s 34us/sample - loss: 0.4234 - acc: 0.8149\n",
      "Epoch 3/50\n",
      "372699/372699 [==============================] - 13s 34us/sample - loss: 0.4144 - acc: 0.8210\n",
      "Epoch 4/50\n",
      "372699/372699 [==============================] - 12s 33us/sample - loss: 0.4068 - acc: 0.8266\n",
      "Epoch 5/50\n",
      "372699/372699 [==============================] - 13s 34us/sample - loss: 0.4013 - acc: 0.8305\n",
      "Epoch 6/50\n",
      "372699/372699 [==============================] - 12s 33us/sample - loss: 0.3973 - acc: 0.8334\n",
      "Epoch 7/50\n",
      "372699/372699 [==============================] - 12s 33us/sample - loss: 0.3933 - acc: 0.8365\n",
      "Epoch 8/50\n",
      "372699/372699 [==============================] - 12s 33us/sample - loss: 0.3895 - acc: 0.8387\n",
      "Epoch 9/50\n",
      "372699/372699 [==============================] - 12s 33us/sample - loss: 0.3871 - acc: 0.8406\n",
      "Epoch 10/50\n",
      "372699/372699 [==============================] - 12s 33us/sample - loss: 0.3847 - acc: 0.8417\n",
      "Epoch 11/50\n",
      "372699/372699 [==============================] - 12s 33us/sample - loss: 0.3823 - acc: 0.8432\n",
      "Epoch 12/50\n",
      "372699/372699 [==============================] - 12s 33us/sample - loss: 0.3803 - acc: 0.8442\n",
      "Epoch 13/50\n",
      "372699/372699 [==============================] - 13s 34us/sample - loss: 0.3785 - acc: 0.8453\n",
      "Epoch 14/50\n",
      "372699/372699 [==============================] - 12s 33us/sample - loss: 0.3768 - acc: 0.8462\n",
      "Epoch 15/50\n",
      "372699/372699 [==============================] - 12s 33us/sample - loss: 0.3753 - acc: 0.8470\n",
      "Epoch 16/50\n",
      "372699/372699 [==============================] - 13s 34us/sample - loss: 0.3741 - acc: 0.8476\n",
      "Epoch 17/50\n",
      "372699/372699 [==============================] - 13s 34us/sample - loss: 0.3726 - acc: 0.8485\n",
      "Epoch 18/50\n",
      "372699/372699 [==============================] - 12s 33us/sample - loss: 0.3718 - acc: 0.8489\n",
      "Epoch 19/50\n",
      "372699/372699 [==============================] - 12s 33us/sample - loss: 0.3717 - acc: 0.8486\n",
      "Epoch 20/50\n",
      "372699/372699 [==============================] - 12s 33us/sample - loss: 0.3700 - acc: 0.8492\n",
      "Epoch 21/50\n",
      "372699/372699 [==============================] - 12s 33us/sample - loss: 0.3689 - acc: 0.8501\n",
      "Epoch 22/50\n",
      "372699/372699 [==============================] - 12s 33us/sample - loss: 0.3684 - acc: 0.8502\n",
      "Epoch 23/50\n",
      "372699/372699 [==============================] - 12s 33us/sample - loss: 0.3672 - acc: 0.8510\n",
      "Epoch 24/50\n",
      "372699/372699 [==============================] - 12s 33us/sample - loss: 0.3672 - acc: 0.8507\n",
      "Epoch 25/50\n",
      "372699/372699 [==============================] - 12s 33us/sample - loss: 0.3659 - acc: 0.8513\n",
      "Epoch 26/50\n",
      "372699/372699 [==============================] - 12s 33us/sample - loss: 0.3649 - acc: 0.8518\n",
      "Epoch 27/50\n",
      "372699/372699 [==============================] - 13s 34us/sample - loss: 0.3647 - acc: 0.8516\n",
      "Epoch 28/50\n",
      "372699/372699 [==============================] - 13s 34us/sample - loss: 0.3638 - acc: 0.8524\n",
      "Epoch 29/50\n",
      "372699/372699 [==============================] - 12s 33us/sample - loss: 0.3631 - acc: 0.8525\n",
      "Epoch 30/50\n",
      "372699/372699 [==============================] - 12s 33us/sample - loss: 0.3624 - acc: 0.8531\n",
      "Epoch 31/50\n",
      "372699/372699 [==============================] - 12s 33us/sample - loss: 0.3619 - acc: 0.8530\n",
      "Epoch 32/50\n",
      "372699/372699 [==============================] - 12s 33us/sample - loss: 0.3612 - acc: 0.8533\n",
      "Epoch 33/50\n",
      "372699/372699 [==============================] - 12s 33us/sample - loss: 0.3601 - acc: 0.8536\n",
      "Epoch 34/50\n",
      "372699/372699 [==============================] - 13s 34us/sample - loss: 0.3590 - acc: 0.8543\n",
      "Epoch 35/50\n",
      "372699/372699 [==============================] - 12s 33us/sample - loss: 0.3576 - acc: 0.8545\n",
      "Epoch 36/50\n",
      "372699/372699 [==============================] - 12s 33us/sample - loss: 0.3563 - acc: 0.8551\n",
      "Epoch 37/50\n",
      "372699/372699 [==============================] - 12s 34us/sample - loss: 0.3547 - acc: 0.8552\n",
      "Epoch 38/50\n",
      "372699/372699 [==============================] - 12s 33us/sample - loss: 0.3532 - acc: 0.8561\n",
      "Epoch 39/50\n",
      "372699/372699 [==============================] - 13s 34us/sample - loss: 0.3521 - acc: 0.8564\n",
      "Epoch 40/50\n",
      "372699/372699 [==============================] - 13s 34us/sample - loss: 0.3511 - acc: 0.8566\n",
      "Epoch 41/50\n",
      "372699/372699 [==============================] - 12s 33us/sample - loss: 0.3490 - acc: 0.8580\n",
      "Epoch 42/50\n",
      "372699/372699 [==============================] - 12s 33us/sample - loss: 0.3476 - acc: 0.8585\n",
      "Epoch 43/50\n",
      "372699/372699 [==============================] - 12s 33us/sample - loss: 0.3463 - acc: 0.8591\n",
      "Epoch 44/50\n",
      "372699/372699 [==============================] - 12s 33us/sample - loss: 0.3455 - acc: 0.8595\n",
      "Epoch 45/50\n",
      "372699/372699 [==============================] - 12s 33us/sample - loss: 0.3439 - acc: 0.8600\n",
      "Epoch 46/50\n",
      "372699/372699 [==============================] - 12s 33us/sample - loss: 0.3429 - acc: 0.8603\n",
      "Epoch 47/50\n",
      "372699/372699 [==============================] - 12s 33us/sample - loss: 0.3415 - acc: 0.8611\n",
      "Epoch 48/50\n",
      "372699/372699 [==============================] - 12s 33us/sample - loss: 0.3403 - acc: 0.8619\n",
      "Epoch 49/50\n",
      "372699/372699 [==============================] - 12s 33us/sample - loss: 0.3387 - acc: 0.8628\n",
      "Epoch 50/50\n",
      "372699/372699 [==============================] - 12s 33us/sample - loss: 0.3374 - acc: 0.8636\n",
      "159729/159729 [==============================] - 4s 28us/sample - loss: 0.3378 - acc: 0.8639\n",
      "Test accuracy: 0.86394453\n"
     ]
    }
   ],
   "source": [
    "import tensorflow as tf\n",
    "from tensorflow import keras\n",
    "\n",
    "model = keras.Sequential([\n",
    "    keras.layers.Flatten(input_shape=(20,)),\n",
    "    keras.layers.Dense(100, activation=tf.nn.relu),\n",
    "\tkeras.layers.Dense(100, activation=tf.nn.relu),\n",
    "    keras.layers.Dense(1, activation=tf.nn.sigmoid),\n",
    "])\n",
    "\n",
    "model.compile(optimizer='adam',\n",
    "              loss='binary_crossentropy',\n",
    "              metrics=['accuracy'])\n",
    "\n",
    "model.fit(X_train_norm, y_train, epochs=50, batch_size=64)\n",
    "\n",
    "test_loss, test_acc = model.evaluate(X_test_norm, y_test)\n",
    "print('Test accuracy:', test_acc)"
   ]
  },
  {
   "cell_type": "code",
   "execution_count": 25,
   "metadata": {},
   "outputs": [],
   "source": [
    "feat_40_train=['payment_completion',\n",
    " 'int_rate',\n",
    " 'tot_cur_bal',\n",
    " 'last_week_pay',\n",
    " 'total_rev_hi_lim',\n",
    " 'dti',\n",
    " 'revol_util',\n",
    " 'initial_list_status',\n",
    " 'revol_bal',\n",
    " 'annual_inc',\n",
    " 'int_paid',\n",
    " 'total_rec_int',\n",
    " 'grade',\n",
    " 'avl_lines',\n",
    " 'total_acc',\n",
    " 'open_acc',\n",
    " 'recoveries',\n",
    " 'emp_length',\n",
    " 'funded_amnt_inv',\n",
    " 'sanctinoned',\n",
    " 'loan_amnt',\n",
    " 'funded_amnt',\n",
    " 'verification_status',\n",
    " 'inq_last_6mths',\n",
    " 'term',\n",
    " 'purpose',\n",
    " 'collection_recovery_fee',\n",
    " 'tot_coll_amt',\n",
    " 'home_ownership',\n",
    " 'delinq_2yrs',\n",
    " 'pub_rec',\n",
    " 'total_rec_late_fee',\n",
    " 'collections_12_mths_ex_med',\n",
    " 'loan_to_income',\n",
    " 'acc_now_delinq',\n",
    " 'pymnt_plan',\n",
    " 'total_repayment_progress',\n",
    " 'application_type',\n",
    "'loan_status']"
   ]
  },
  {
   "cell_type": "code",
   "execution_count": 26,
   "metadata": {},
   "outputs": [],
   "source": [
    "feat_40_test=['payment_completion',\n",
    " 'int_rate',\n",
    " 'tot_cur_bal',\n",
    " 'last_week_pay',\n",
    " 'total_rev_hi_lim',\n",
    " 'dti',\n",
    " 'revol_util',\n",
    " 'initial_list_status',\n",
    " 'revol_bal',\n",
    " 'annual_inc',\n",
    " 'int_paid',\n",
    " 'total_rec_int',\n",
    " 'grade',\n",
    " 'avl_lines',\n",
    " 'total_acc',\n",
    " 'open_acc',\n",
    " 'recoveries',\n",
    " 'emp_length',\n",
    " 'funded_amnt_inv',\n",
    " 'sanctinoned',\n",
    " 'loan_amnt',\n",
    " 'funded_amnt',\n",
    " 'verification_status',\n",
    " 'inq_last_6mths',\n",
    " 'term',\n",
    " 'purpose',\n",
    " 'collection_recovery_fee',\n",
    " 'tot_coll_amt',\n",
    " 'home_ownership',\n",
    " 'delinq_2yrs',\n",
    " 'pub_rec',\n",
    " 'total_rec_late_fee',\n",
    " 'collections_12_mths_ex_med',\n",
    " 'loan_to_income',\n",
    " 'acc_now_delinq',\n",
    " 'pymnt_plan',\n",
    " 'total_repayment_progress',\n",
    " 'application_type']"
   ]
  },
  {
   "cell_type": "code",
   "execution_count": 27,
   "metadata": {},
   "outputs": [],
   "source": [
    "df1=df[feat_40_train]\n",
    "X=df1.drop(['loan_status'],axis=1)\n",
    "y=df[['loan_status']]\n",
    "X_train, X_test, y_train, y_test = train_test_split(X, y,test_size=.30,random_state =123)\n",
    "\n",
    "# fit scaler on training data\n",
    "norm = MinMaxScaler().fit(X_train)\n",
    "\n",
    "# transform training data\n",
    "X_train_norm = norm.transform(X_train)\n",
    "\n",
    "# transform testing dataabs\n",
    "X_test_norm = norm.transform(X_test)"
   ]
  },
  {
   "cell_type": "code",
   "execution_count": 29,
   "metadata": {},
   "outputs": [
    {
     "name": "stdout",
     "output_type": "stream",
     "text": [
      "Train on 372699 samples\n",
      "Epoch 1/50\n",
      "372699/372699 [==============================] - 14s 36us/sample - loss: 0.4420 - acc: 0.8023\n",
      "Epoch 2/50\n",
      "372699/372699 [==============================] - 13s 36us/sample - loss: 0.4160 - acc: 0.8178\n",
      "Epoch 3/50\n",
      "372699/372699 [==============================] - 13s 36us/sample - loss: 0.4089 - acc: 0.8217\n",
      "Epoch 4/50\n",
      "372699/372699 [==============================] - 13s 35us/sample - loss: 0.4036 - acc: 0.8259\n",
      "Epoch 5/50\n",
      "372699/372699 [==============================] - 13s 36us/sample - loss: 0.4009 - acc: 0.8274\n",
      "Epoch 6/50\n",
      "372699/372699 [==============================] - 13s 36us/sample - loss: 0.3978 - acc: 0.8295\n",
      "Epoch 7/50\n",
      "372699/372699 [==============================] - 13s 36us/sample - loss: 0.3957 - acc: 0.8305\n",
      "Epoch 8/50\n",
      "372699/372699 [==============================] - 13s 36us/sample - loss: 0.3933 - acc: 0.8319\n",
      "Epoch 9/50\n",
      "372699/372699 [==============================] - 14s 37us/sample - loss: 0.3906 - acc: 0.8338\n",
      "Epoch 10/50\n",
      "372699/372699 [==============================] - 13s 36us/sample - loss: 0.3874 - acc: 0.8362\n",
      "Epoch 11/50\n",
      "372699/372699 [==============================] - 14s 36us/sample - loss: 0.3832 - acc: 0.8394\n",
      "Epoch 12/50\n",
      "372699/372699 [==============================] - 13s 36us/sample - loss: 0.3802 - acc: 0.8412\n",
      "Epoch 13/50\n",
      "372699/372699 [==============================] - 13s 35us/sample - loss: 0.3786 - acc: 0.8422\n",
      "Epoch 14/50\n",
      "372699/372699 [==============================] - 13s 35us/sample - loss: 0.3765 - acc: 0.8434\n",
      "Epoch 15/50\n",
      "372699/372699 [==============================] - 13s 35us/sample - loss: 0.3740 - acc: 0.8449\n",
      "Epoch 16/50\n",
      "372699/372699 [==============================] - 13s 35us/sample - loss: 0.3726 - acc: 0.8455\n",
      "Epoch 17/50\n",
      "372699/372699 [==============================] - 13s 35us/sample - loss: 0.3709 - acc: 0.8462\n",
      "Epoch 18/50\n",
      "372699/372699 [==============================] - 13s 35us/sample - loss: 0.3690 - acc: 0.8478\n",
      "Epoch 19/50\n",
      "372699/372699 [==============================] - 13s 35us/sample - loss: 0.3681 - acc: 0.8481\n",
      "Epoch 20/50\n",
      "372699/372699 [==============================] - 13s 35us/sample - loss: 0.3674 - acc: 0.8484\n",
      "Epoch 21/50\n",
      "372699/372699 [==============================] - 13s 35us/sample - loss: 0.3659 - acc: 0.8490\n",
      "Epoch 22/50\n",
      "372699/372699 [==============================] - 13s 35us/sample - loss: 0.3652 - acc: 0.8496\n",
      "Epoch 23/50\n",
      "372699/372699 [==============================] - 13s 35us/sample - loss: 0.3642 - acc: 0.8502\n",
      "Epoch 24/50\n",
      "372699/372699 [==============================] - 13s 35us/sample - loss: 0.3633 - acc: 0.8502\n",
      "Epoch 25/50\n",
      "372699/372699 [==============================] - 13s 35us/sample - loss: 0.3625 - acc: 0.8513\n",
      "Epoch 26/50\n",
      "372699/372699 [==============================] - 13s 35us/sample - loss: 0.3622 - acc: 0.8511\n",
      "Epoch 27/50\n",
      "372699/372699 [==============================] - 13s 35us/sample - loss: 0.3608 - acc: 0.8519\n",
      "Epoch 28/50\n",
      "372699/372699 [==============================] - 13s 35us/sample - loss: 0.3602 - acc: 0.8519\n",
      "Epoch 29/50\n",
      "372699/372699 [==============================] - 13s 35us/sample - loss: 0.3597 - acc: 0.8525\n",
      "Epoch 30/50\n",
      "372699/372699 [==============================] - 13s 35us/sample - loss: 0.3591 - acc: 0.8526\n",
      "Epoch 31/50\n",
      "372699/372699 [==============================] - 13s 35us/sample - loss: 0.3585 - acc: 0.8527\n",
      "Epoch 32/50\n",
      "372699/372699 [==============================] - 13s 35us/sample - loss: 0.3581 - acc: 0.8533\n",
      "Epoch 33/50\n",
      "372699/372699 [==============================] - 13s 35us/sample - loss: 0.3576 - acc: 0.8536\n",
      "Epoch 34/50\n",
      "372699/372699 [==============================] - 13s 35us/sample - loss: 0.3571 - acc: 0.8532\n",
      "Epoch 35/50\n",
      "372699/372699 [==============================] - 13s 35us/sample - loss: 0.3566 - acc: 0.8538\n",
      "Epoch 36/50\n",
      "372699/372699 [==============================] - 13s 35us/sample - loss: 0.3560 - acc: 0.8542\n",
      "Epoch 37/50\n",
      "372699/372699 [==============================] - 13s 35us/sample - loss: 0.3557 - acc: 0.8545\n",
      "Epoch 38/50\n",
      "372699/372699 [==============================] - 13s 36us/sample - loss: 0.3551 - acc: 0.8541\n",
      "Epoch 39/50\n",
      "372699/372699 [==============================] - 13s 35us/sample - loss: 0.3546 - acc: 0.8547\n",
      "Epoch 40/50\n",
      "372699/372699 [==============================] - 13s 35us/sample - loss: 0.3542 - acc: 0.8553\n",
      "Epoch 41/50\n",
      "372699/372699 [==============================] - 13s 35us/sample - loss: 0.3539 - acc: 0.8551\n",
      "Epoch 42/50\n",
      "372699/372699 [==============================] - 13s 35us/sample - loss: 0.3537 - acc: 0.8552\n",
      "Epoch 43/50\n",
      "372699/372699 [==============================] - 13s 35us/sample - loss: 0.3533 - acc: 0.8557\n",
      "Epoch 44/50\n",
      "372699/372699 [==============================] - 13s 35us/sample - loss: 0.3521 - acc: 0.8558\n",
      "Epoch 45/50\n",
      "372699/372699 [==============================] - 13s 35us/sample - loss: 0.3520 - acc: 0.8558\n",
      "Epoch 46/50\n",
      "372699/372699 [==============================] - 13s 35us/sample - loss: 0.3517 - acc: 0.8562\n",
      "Epoch 47/50\n",
      "372699/372699 [==============================] - 13s 35us/sample - loss: 0.3509 - acc: 0.8563\n",
      "Epoch 48/50\n",
      "372699/372699 [==============================] - 13s 35us/sample - loss: 0.3504 - acc: 0.8565\n",
      "Epoch 49/50\n",
      "372699/372699 [==============================] - 13s 35us/sample - loss: 0.3495 - acc: 0.8572\n",
      "Epoch 50/50\n",
      "372699/372699 [==============================] - 13s 35us/sample - loss: 0.3492 - acc: 0.8571\n",
      "159729/159729 [==============================] - 4s 28us/sample - loss: 0.3566 - acc: 0.8536\n",
      "Test accuracy: 0.85355824\n"
     ]
    }
   ],
   "source": [
    "import tensorflow as tf\n",
    "from tensorflow import keras\n",
    "\n",
    "model = keras.Sequential([\n",
    "    keras.layers.Flatten(input_shape=(38,)),\n",
    "    keras.layers.Dense(100, activation=tf.nn.relu),\n",
    "\tkeras.layers.Dense(100, activation=tf.nn.relu),\n",
    "    keras.layers.Dense(1, activation=tf.nn.sigmoid),\n",
    "])\n",
    "\n",
    "model.compile(optimizer='adam',\n",
    "              loss='binary_crossentropy',\n",
    "              metrics=['accuracy'])\n",
    "\n",
    "model.fit(X_train_norm, y_train, epochs=50, batch_size=64)\n",
    "\n",
    "test_loss, test_acc = model.evaluate(X_test_norm, y_test)\n",
    "print('Test accuracy:', test_acc)"
   ]
  },
  {
   "cell_type": "code",
   "execution_count": null,
   "metadata": {},
   "outputs": [
    {
     "name": "stdout",
     "output_type": "stream",
     "text": [
      "Train on 372699 samples\n",
      "Epoch 1/50\n",
      "372699/372699 [==============================] - 14s 38us/sample - loss: 0.4414 - auc: 0.7821\n",
      "Epoch 2/50\n",
      "372699/372699 [==============================] - 14s 37us/sample - loss: 0.4154 - auc: 0.8100\n",
      "Epoch 3/50\n",
      "372699/372699 [==============================] - 14s 38us/sample - loss: 0.4082 - auc: 0.8167\n",
      "Epoch 4/50\n",
      "372699/372699 [==============================] - 14s 38us/sample - loss: 0.4032 - auc: 0.8212\n",
      "Epoch 5/50\n",
      "372699/372699 [==============================] - 14s 38us/sample - loss: 0.3994 - auc: 0.8251\n",
      "Epoch 6/50\n",
      "372699/372699 [==============================] - 14s 37us/sample - loss: 0.3965 - auc: 0.8278\n",
      "Epoch 7/50\n",
      "372699/372699 [==============================] - 14s 37us/sample - loss: 0.3931 - auc: 0.8305\n",
      "Epoch 8/50\n",
      "372699/372699 [==============================] - 14s 37us/sample - loss: 0.3886 - auc: 0.8341\n",
      "Epoch 9/50\n",
      "372699/372699 [==============================] - 14s 38us/sample - loss: 0.3844 - auc: 0.8375\n",
      "Epoch 10/50\n",
      "372699/372699 [==============================] - 14s 37us/sample - loss: 0.3808 - auc: 0.8399\n",
      "Epoch 11/50\n",
      "372699/372699 [==============================] - 14s 37us/sample - loss: 0.3782 - auc: 0.8420\n",
      "Epoch 12/50\n",
      "372699/372699 [==============================] - 14s 37us/sample - loss: 0.3755 - auc: 0.8444\n",
      "Epoch 13/50\n",
      "372699/372699 [==============================] - 14s 39us/sample - loss: 0.3731 - auc: 0.8462\n",
      "Epoch 14/50\n",
      "372699/372699 [==============================] - 14s 38us/sample - loss: 0.3715 - auc: 0.8474\n",
      "Epoch 15/50\n",
      "372699/372699 [==============================] - 14s 37us/sample - loss: 0.3696 - auc: 0.8490\n",
      "Epoch 16/50\n",
      "372699/372699 [==============================] - 14s 37us/sample - loss: 0.3685 - auc: 0.8498\n",
      "Epoch 17/50\n",
      "372699/372699 [==============================] - 14s 37us/sample - loss: 0.3674 - auc: 0.8509\n",
      "Epoch 18/50\n",
      "372699/372699 [==============================] - 14s 37us/sample - loss: 0.3656 - auc: 0.8524\n",
      "Epoch 19/50\n",
      "372699/372699 [==============================] - 12s 32us/sample - loss: 0.3648 - auc: 0.8530\n",
      "Epoch 20/50\n",
      "372699/372699 [==============================] - 11s 30us/sample - loss: 0.3643 - auc: 0.8536\n",
      "Epoch 21/50\n",
      "372699/372699 [==============================] - 11s 29us/sample - loss: 0.3631 - auc: 0.8545\n",
      "Epoch 22/50\n",
      "372699/372699 [==============================] - 11s 30us/sample - loss: 0.3622 - auc: 0.8553\n",
      "Epoch 23/50\n",
      "372699/372699 [==============================] - 11s 29us/sample - loss: 0.3616 - auc: 0.8559\n",
      "Epoch 24/50\n",
      "372699/372699 [==============================] - 11s 30us/sample - loss: 0.3602 - auc: 0.8569\n",
      "Epoch 25/50\n",
      "372699/372699 [==============================] - 11s 30us/sample - loss: 0.3599 - auc: 0.8574\n",
      "Epoch 26/50\n",
      "372699/372699 [==============================] - 11s 30us/sample - loss: 0.3592 - auc: 0.8580\n",
      "Epoch 27/50\n",
      "372699/372699 [==============================] - 11s 30us/sample - loss: 0.3584 - auc: 0.8585\n",
      "Epoch 28/50\n",
      "372699/372699 [==============================] - 11s 29us/sample - loss: 0.3578 - auc: 0.8594\n",
      "Epoch 29/50\n",
      "372699/372699 [==============================] - 11s 29us/sample - loss: 0.3570 - auc: 0.8599\n",
      "Epoch 30/50\n",
      "372699/372699 [==============================] - 11s 30us/sample - loss: 0.3568 - auc: 0.8603\n",
      "Epoch 31/50\n",
      "372699/372699 [==============================] - 11s 29us/sample - loss: 0.3561 - auc: 0.8608\n",
      "Epoch 32/50\n",
      "372699/372699 [==============================] - 11s 30us/sample - loss: 0.3550 - auc: 0.8616\n",
      "Epoch 33/50\n",
      "372699/372699 [==============================] - 11s 30us/sample - loss: 0.3544 - auc: 0.8620\n",
      "Epoch 34/50\n",
      "372699/372699 [==============================] - 11s 30us/sample - loss: 0.3539 - auc: 0.8625\n",
      "Epoch 35/50\n",
      "372699/372699 [==============================] - 11s 29us/sample - loss: 0.3538 - auc: 0.8629\n",
      "Epoch 36/50\n",
      "372699/372699 [==============================] - 11s 30us/sample - loss: 0.3533 - auc: 0.8632\n",
      "Epoch 37/50\n",
      "372699/372699 [==============================] - 11s 30us/sample - loss: 0.3525 - auc: 0.8636\n",
      "Epoch 38/50\n",
      "372699/372699 [==============================] - 11s 29us/sample - loss: 0.3525 - auc: 0.8639\n",
      "Epoch 39/50\n",
      "372699/372699 [==============================] - 11s 30us/sample - loss: 0.3517 - auc: 0.8645\n",
      "Epoch 40/50\n",
      "372699/372699 [==============================] - 11s 29us/sample - loss: 0.3509 - auc: 0.8652\n",
      "Epoch 41/50\n",
      "372699/372699 [==============================] - 11s 29us/sample - loss: 0.3508 - auc: 0.8653\n",
      "Epoch 42/50\n",
      "372699/372699 [==============================] - 11s 30us/sample - loss: 0.3502 - auc: 0.8659\n",
      "Epoch 43/50\n",
      "372699/372699 [==============================] - 11s 30us/sample - loss: 0.3501 - auc: 0.8661\n",
      "Epoch 44/50\n",
      "372699/372699 [==============================] - 11s 30us/sample - loss: 0.3497 - auc: 0.8662\n",
      "Epoch 45/50\n",
      "372699/372699 [==============================] - 11s 30us/sample - loss: 0.3492 - auc: 0.8667\n",
      "Epoch 46/50\n",
      "372699/372699 [==============================] - 11s 30us/sample - loss: 0.3488 - auc: 0.8672\n",
      "Epoch 47/50\n",
      "372699/372699 [==============================] - 11s 30us/sample - loss: 0.3488 - auc: 0.8671\n",
      "Epoch 48/50\n",
      "372699/372699 [==============================] - 11s 30us/sample - loss: 0.3485 - auc: 0.8674\n",
      "Epoch 49/50\n",
      "372699/372699 [==============================] - 11s 30us/sample - loss: 0.3481 - auc: 0.8678\n",
      "Epoch 50/50\n",
      "157248/372699 [===========>..................] - ETA: 6s - loss: 0.3450 - auc: 0.8693"
     ]
    }
   ],
   "source": [
    "import tensorflow as tf\n",
    "from tensorflow import keras\n",
    "\n",
    "model = keras.Sequential([\n",
    "    keras.layers.Flatten(input_shape=(38,)),\n",
    "    keras.layers.Dense(100, activation=tf.nn.relu),\n",
    "\tkeras.layers.Dense(100, activation=tf.nn.relu),\n",
    "    keras.layers.Dense(1, activation=tf.nn.sigmoid),\n",
    "])\n",
    "\n",
    "model.compile(optimizer='adam',\n",
    "              loss='binary_crossentropy',\n",
    "              metrics=['AUC'])\n",
    "\n",
    "model.fit(X_train_norm, y_train, epochs=50, batch_size=64)\n",
    "\n",
    "test_loss, test_acc = model.evaluate(X_test_norm, y_test)\n",
    "print('Test accuracy:', test_acc)"
   ]
  },
  {
   "cell_type": "code",
   "execution_count": null,
   "metadata": {},
   "outputs": [],
   "source": [
    "from sklearn.metrics import roc_auc_score\n",
    "y_pred = model.predict_proba(X_test_norm)\n",
    "roc_auc_score(y_test, y_pred)"
   ]
  },
  {
   "cell_type": "code",
   "execution_count": null,
   "metadata": {},
   "outputs": [],
   "source": []
  }
 ],
 "metadata": {
  "kernelspec": {
   "display_name": "Python 3",
   "language": "python",
   "name": "python3"
  }
 },
 "nbformat": 4,
 "nbformat_minor": 2
}
