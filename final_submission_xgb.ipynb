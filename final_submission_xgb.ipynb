{
 "cells": [
  {
   "cell_type": "code",
   "execution_count": 18,
   "metadata": {},
   "outputs": [],
   "source": [
    "import pandas as pd\n",
    "import numpy as np\n",
    "from sklearn.ensemble import RandomForestClassifier\n",
    "from sklearn.metrics import roc_curve, roc_auc_score\n",
    "from sklearn.preprocessing import LabelEncoder\n",
    "df_train=pd.read_csv('train_indessa.csv')\n",
    "df_test=pd.read_csv('test_indessa.csv')"
   ]
  },
  {
   "cell_type": "code",
   "execution_count": 19,
   "metadata": {},
   "outputs": [],
   "source": [
    "df_train.drop(['mths_since_last_delinq','mths_since_last_major_derog','mths_since_last_record','desc',\n",
    "         'verification_status_joint','batch_enrolled','sub_grade','title','zip_code','addr_state',\n",
    "        'emp_title'],axis=1,inplace=True)\n",
    "df_test.drop(['mths_since_last_delinq','mths_since_last_major_derog','mths_since_last_record','desc',\n",
    "         'verification_status_joint','batch_enrolled','sub_grade','title','zip_code','addr_state',\n",
    "        'emp_title'],axis=1,inplace=True)"
   ]
  },
  {
   "cell_type": "code",
   "execution_count": 20,
   "metadata": {},
   "outputs": [],
   "source": [
    "df_train['emp_length'].replace('n/a', '0', inplace=True)\n",
    "df_train['emp_length'].replace(to_replace='\\+ years', value='', regex=True, inplace=True)\n",
    "df_train['emp_length'].replace(to_replace=' years', value='', regex=True, inplace=True)\n",
    "df_train['emp_length'].replace(to_replace='< 1 year', value='0', regex=True, inplace=True)\n",
    "df_train['emp_length'].replace(to_replace=' year', value='', regex=True, inplace=True)\n",
    "df_train['emp_length'].fillna(df_train.emp_length.median(),inplace=True)\n",
    "df_train['emp_length'] = pd.to_numeric(df_train['emp_length'], errors='coerce')\n",
    "\n",
    "df_test['emp_length'].replace('n/a', '0', inplace=True)\n",
    "df_test['emp_length'].replace(to_replace='\\+ years', value='', regex=True, inplace=True)\n",
    "df_test['emp_length'].replace(to_replace=' years', value='', regex=True, inplace=True)\n",
    "df_test['emp_length'].replace(to_replace='< 1 year', value='0', regex=True, inplace=True)\n",
    "df_test['emp_length'].replace(to_replace=' year', value='', regex=True, inplace=True)\n",
    "df_test['emp_length'].fillna(df_test.emp_length.median(),inplace=True)\n",
    "df_test['emp_length'] = pd.to_numeric(df_test['emp_length'], errors='coerce')"
   ]
  },
  {
   "cell_type": "code",
   "execution_count": 21,
   "metadata": {},
   "outputs": [],
   "source": [
    "df_train['last_week_pay'] = df_train['last_week_pay'].str.extract('(\\d+)', expand=False)\n",
    "df_train['last_week_pay'].fillna(df_train['last_week_pay'].median(), inplace=True)\n",
    "df_train['last_week_pay'] = pd.to_numeric(df_train['last_week_pay'], errors='coerce')\n",
    "\n",
    "df_test['last_week_pay'] = df_test['last_week_pay'].str.extract('(\\d+)', expand=False)\n",
    "df_test['last_week_pay'].fillna(df_test['last_week_pay'].median(), inplace=True)\n",
    "df_test['last_week_pay'] = pd.to_numeric(df_test['last_week_pay'], errors='coerce')"
   ]
  },
  {
   "cell_type": "code",
   "execution_count": 22,
   "metadata": {},
   "outputs": [
    {
     "name": "stdout",
     "output_type": "stream",
     "text": [
      "Train:Imputation with Median: loan_amnt\n",
      "Train:Imputation with Median: funded_amnt\n",
      "Train:Imputation with Median: int_rate\n",
      "Train:Imputation with Median: annual_inc\n",
      "Train:Imputation with Median: dti\n",
      "Train:Imputation with Median: open_acc\n",
      "Train:Imputation with Median: revol_bal\n",
      "Train:Imputation with Median: revol_util\n",
      "Train:Imputation with Median: total_acc\n",
      "Train:Imputation with Median: total_rec_int\n",
      "Train:Imputation with Median: tot_coll_amt\n",
      "Train:Imputation with Median: tot_cur_bal\n",
      "Train:Imputation with Median: total_rev_hi_lim\n",
      "Test: Imputation with Median: loan_amnt\n",
      "Test: Imputation with Median: funded_amnt\n",
      "Test: Imputation with Median: int_rate\n",
      "Test: Imputation with Median: annual_inc\n",
      "Test: Imputation with Median: dti\n",
      "Test: Imputation with Median: open_acc\n",
      "Test: Imputation with Median: revol_bal\n",
      "Test: Imputation with Median: revol_util\n",
      "Test: Imputation with Median: total_acc\n",
      "Test: Imputation with Median: total_rec_int\n",
      "Test: Imputation with Median: tot_coll_amt\n",
      "Test: Imputation with Median: tot_cur_bal\n",
      "Test: Imputation with Median: total_rev_hi_lim\n"
     ]
    }
   ],
   "source": [
    "cols = ['loan_amnt', 'funded_amnt', 'int_rate',  'annual_inc', 'dti',  'open_acc', 'revol_bal', 'revol_util', 'total_acc',\n",
    "        'total_rec_int','tot_coll_amt', 'tot_cur_bal', 'total_rev_hi_lim']\n",
    "for col in cols:\n",
    "    print('Train:Imputation with Median: %s' % (col))\n",
    "    df_train[col].fillna(df_train[col].median(), inplace=True)\n",
    "    \n",
    "for col in cols:\n",
    "    print('Test: Imputation with Median: %s' % (col))\n",
    "    df_test[col].fillna(df_test[col].median(), inplace=True)"
   ]
  },
  {
   "cell_type": "code",
   "execution_count": 23,
   "metadata": {},
   "outputs": [
    {
     "name": "stdout",
     "output_type": "stream",
     "text": [
      "Train: Imputation with Zero: acc_now_delinq\n",
      "Train: Imputation with Zero: collections_12_mths_ex_med\n",
      "Train: Imputation with Zero: delinq_2yrs\n",
      "Train: Imputation with Zero: inq_last_6mths\n",
      "Train: Imputation with Zero: pub_rec\n",
      "Test: Imputation with Zero: acc_now_delinq\n",
      "Test: Imputation with Zero: collections_12_mths_ex_med\n",
      "Test: Imputation with Zero: delinq_2yrs\n",
      "Test: Imputation with Zero: inq_last_6mths\n",
      "Test: Imputation with Zero: pub_rec\n"
     ]
    }
   ],
   "source": [
    "cols = ['acc_now_delinq', 'collections_12_mths_ex_med',\n",
    "       'delinq_2yrs','inq_last_6mths','pub_rec']\n",
    "for col in cols:\n",
    "    print('Train: Imputation with Zero: %s' % (col))\n",
    "    df_train[col].fillna(0, inplace=True)\n",
    "    \n",
    "for col in cols:\n",
    "    print('Test: Imputation with Zero: %s' % (col))\n",
    "    df_test[col].fillna(0, inplace=True)"
   ]
  },
  {
   "cell_type": "code",
   "execution_count": 24,
   "metadata": {},
   "outputs": [],
   "source": [
    "df_train['term'].replace(to_replace=' months', value='', regex=True, inplace=True)\n",
    "df_train['term'] = pd.to_numeric(df_train['term'], errors='coerce')\n",
    "\n",
    "df_test['term'].replace(to_replace=' months', value='', regex=True, inplace=True)\n",
    "df_test['term'] = pd.to_numeric(df_test['term'], errors='coerce')"
   ]
  },
  {
   "cell_type": "code",
   "execution_count": 25,
   "metadata": {},
   "outputs": [
    {
     "name": "stdout",
     "output_type": "stream",
     "text": [
      "Train: Encoded:  home_ownership\n",
      "Train: Encoded:  application_type\n",
      "Train: Encoded:  initial_list_status\n",
      "Train: Encoded:  pymnt_plan\n",
      "Train: Encoded:  purpose\n",
      "Train: Encoded:  initial_list_status\n",
      "Train: Encoded:  grade\n",
      "Train: Encoded:  verification_status\n",
      "Test :Encoded:  home_ownership\n",
      "Test :Encoded:  application_type\n",
      "Test :Encoded:  initial_list_status\n",
      "Test :Encoded:  pymnt_plan\n",
      "Test :Encoded:  purpose\n",
      "Test :Encoded:  initial_list_status\n",
      "Test :Encoded:  grade\n",
      "Test :Encoded:  verification_status\n"
     ]
    }
   ],
   "source": [
    "le1 = {}\n",
    "le=['home_ownership','application_type','initial_list_status','pymnt_plan','purpose','initial_list_status','grade','verification_status']\n",
    "\n",
    "for col in le:\n",
    "    le1[col] = LabelEncoder()\n",
    "    df_train[col] = le1[col].fit_transform(df_train[col])\n",
    "    le1[col].classes_ = np.append(le1[col].classes_, 'other')\n",
    "    \n",
    "    print('Train: Encoded: ', col)\n",
    "    \n",
    "for col in le:\n",
    "    le1[col] = LabelEncoder()\n",
    "    df_test[col] = le1[col].fit_transform(df_test[col])\n",
    "    le1[col].classes_ = np.append(le1[col].classes_, 'other')\n",
    "    \n",
    "    print('Test :Encoded: ', col)"
   ]
  },
  {
   "cell_type": "code",
   "execution_count": 26,
   "metadata": {},
   "outputs": [],
   "source": [
    "# Interest paid so far\n",
    "df_train['int_paid'] = df_train['total_rec_int'] + df_train['total_rec_late_fee']\n",
    "\n",
    "# Total number of available/unused 'credit lines'\n",
    "df_train['avl_lines'] = df_train['total_acc'] - df_train['open_acc']\n",
    "\n",
    "df_train['sanctinoned'] = (df_train['funded_amnt'] + df_train['funded_amnt_inv']).div(2)\n",
    "\n",
    "df_train['total_repayment_progress'] = ((df_train['last_week_pay']/(df_train['term']/12*52+1))*100) + ((df_train['recoveries']/df_train['funded_amnt_inv']) * 100)\n",
    "\n",
    "df_train.insert(0, 'payment_completion', (df_train['last_week_pay']/(df_train['term']/12*52+1))*100)\n",
    "\n",
    "df_train['loan_to_income'] = df_train['annual_inc']/df_train['funded_amnt_inv']\n",
    "\n",
    "\n",
    "\n",
    "# Interest paid so far\n",
    "df_test['int_paid'] = df_test['total_rec_int'] + df_test['total_rec_late_fee']\n",
    "\n",
    "# Total number of available/unused 'credit lines'\n",
    "df_test['avl_lines'] = df_test['total_acc'] - df_test['open_acc']\n",
    "\n",
    "df_test['sanctinoned'] = (df_test['funded_amnt'] + df_test['funded_amnt_inv']).div(2)\n",
    "\n",
    "df_test['total_repayment_progress'] = ((df_test['last_week_pay']/(df_test['term']/12*52+1))*100) + ((df_test['recoveries']/df_test['funded_amnt_inv']) * 100)\n",
    "\n",
    "df_test.insert(0, 'payment_completion', (df_test['last_week_pay']/(df_test['term']/12*52+1))*100)\n",
    "\n",
    "df_test['loan_to_income'] = df_test['annual_inc']/df_test['funded_amnt_inv']"
   ]
  },
  {
   "cell_type": "code",
   "execution_count": 27,
   "metadata": {},
   "outputs": [],
   "source": [
    "df_train.replace([np.inf, -np.inf], 0, inplace=True)\n",
    "\n",
    "df_test.replace([np.inf, -np.inf], 0, inplace=True)"
   ]
  },
  {
   "cell_type": "code",
   "execution_count": 28,
   "metadata": {},
   "outputs": [],
   "source": [
    "df_train.fillna(0,inplace=True)\n",
    "\n",
    "df_test.fillna(0,inplace=True)"
   ]
  },
  {
   "cell_type": "code",
   "execution_count": 29,
   "metadata": {},
   "outputs": [],
   "source": [
    "feat=['payment_completion',\n",
    " 'int_rate',\n",
    " 'tot_cur_bal',\n",
    " 'last_week_pay',\n",
    " 'total_rev_hi_lim',\n",
    " 'dti',\n",
    " 'revol_util',\n",
    " 'initial_list_status',\n",
    " 'revol_bal',\n",
    " 'annual_inc',\n",
    " 'int_paid',\n",
    " 'total_rec_int',\n",
    " 'grade',\n",
    " 'avl_lines',\n",
    " 'total_acc',\n",
    " 'open_acc',\n",
    " 'recoveries',\n",
    " 'emp_length',\n",
    " 'funded_amnt_inv',\n",
    " 'sanctinoned',\n",
    "  'loan_status']"
   ]
  },
  {
   "cell_type": "code",
   "execution_count": 30,
   "metadata": {},
   "outputs": [],
   "source": [
    "feat_test=['payment_completion',\n",
    " 'int_rate',\n",
    " 'tot_cur_bal',\n",
    " 'last_week_pay',\n",
    " 'total_rev_hi_lim',\n",
    " 'dti',\n",
    " 'revol_util',\n",
    " 'initial_list_status',\n",
    " 'revol_bal',\n",
    " 'annual_inc',\n",
    " 'int_paid',\n",
    " 'total_rec_int',\n",
    " 'grade',\n",
    " 'avl_lines',\n",
    " 'total_acc',\n",
    " 'open_acc',\n",
    " 'recoveries',\n",
    " 'emp_length',\n",
    " 'funded_amnt_inv',\n",
    " 'sanctinoned']"
   ]
  },
  {
   "cell_type": "code",
   "execution_count": 31,
   "metadata": {},
   "outputs": [],
   "source": [
    "from sklearn.model_selection import train_test_split\n",
    "df_train=df_train[feat]\n",
    "df_test=df_test[feat_test]\n",
    "X=df_train.drop(['loan_status'],axis=1)\n",
    "y=df_train[['loan_status']]\n",
    "X_train, y_train,X_test= X,y,df_test"
   ]
  },
  {
   "cell_type": "code",
   "execution_count": 32,
   "metadata": {},
   "outputs": [],
   "source": [
    "from sklearn.preprocessing import MinMaxScaler\n",
    "\n",
    "# fit scaler on training data\n",
    "norm = MinMaxScaler().fit(X_train)\n",
    "\n",
    "# transform training data\n",
    "X_train_norm = norm.transform(X_train)\n",
    "\n",
    "# transform testing dataabs\n",
    "X_test_norm = norm.transform(X_test)"
   ]
  },
  {
   "cell_type": "code",
   "execution_count": 34,
   "metadata": {},
   "outputs": [
    {
     "name": "stderr",
     "output_type": "stream",
     "text": [
      "/home/ds/.local/lib/python3.6/site-packages/sklearn/utils/validation.py:73: DataConversionWarning: A column-vector y was passed when a 1d array was expected. Please change the shape of y to (n_samples, ), for example using ravel().\n",
      "  return f(**kwargs)\n"
     ]
    }
   ],
   "source": [
    "import xgboost as xgb\n",
    "gbm = xgb.XGBClassifier(\n",
    "    #learning_rate = 0.02,\n",
    "     n_estimators= 2000,\n",
    "     max_depth= 4,\n",
    "     min_child_weight= 2,\n",
    "     #gamma=1,\n",
    "     gamma=0.9,                        \n",
    "     subsample=0.8,\n",
    "     colsample_bytree=0.8,\n",
    "     objective= 'binary:logistic',\n",
    "     nthread= -1,\n",
    "     scale_pos_weight=1).fit(X_train_norm, y_train)\n",
    "xgb_predictions = gbm.predict(X_test_norm)\n",
    "#preds = cbc_clf.predict(X_test_norm)\n",
    "#fpr1, tpr1, thr1 = roc_curve(y_test['loan_status'], xgb_predictions)\n",
    "#auc1 = roc_auc_score(y_test['loan_status'], xgb_predictions)\n",
    "#print(auc1)"
   ]
  },
  {
   "cell_type": "code",
   "execution_count": 37,
   "metadata": {},
   "outputs": [
    {
     "data": {
      "text/plain": [
       "array([0, 0, 0, ..., 0, 0, 0])"
      ]
     },
     "execution_count": 37,
     "metadata": {},
     "output_type": "execute_result"
    }
   ],
   "source": [
    "\n",
    "from collections import Counterxgb_predictions"
   ]
  },
  {
   "cell_type": "code",
   "execution_count": 35,
   "metadata": {},
   "outputs": [],
   "source": [
    "sub=pd.read_csv('sample_submission.csv')"
   ]
  },
  {
   "cell_type": "code",
   "execution_count": 36,
   "metadata": {},
   "outputs": [
    {
     "data": {
      "text/html": [
       "<div>\n",
       "<style scoped>\n",
       "    .dataframe tbody tr th:only-of-type {\n",
       "        vertical-align: middle;\n",
       "    }\n",
       "\n",
       "    .dataframe tbody tr th {\n",
       "        vertical-align: top;\n",
       "    }\n",
       "\n",
       "    .dataframe thead th {\n",
       "        text-align: right;\n",
       "    }\n",
       "</style>\n",
       "<table border=\"1\" class=\"dataframe\">\n",
       "  <thead>\n",
       "    <tr style=\"text-align: right;\">\n",
       "      <th></th>\n",
       "      <th>member_id</th>\n",
       "      <th>loan_status</th>\n",
       "    </tr>\n",
       "  </thead>\n",
       "  <tbody>\n",
       "    <tr>\n",
       "      <th>0</th>\n",
       "      <td>11937648</td>\n",
       "      <td>0.5</td>\n",
       "    </tr>\n",
       "    <tr>\n",
       "      <th>1</th>\n",
       "      <td>38983318</td>\n",
       "      <td>0.5</td>\n",
       "    </tr>\n",
       "    <tr>\n",
       "      <th>2</th>\n",
       "      <td>27999917</td>\n",
       "      <td>0.5</td>\n",
       "    </tr>\n",
       "    <tr>\n",
       "      <th>3</th>\n",
       "      <td>61514932</td>\n",
       "      <td>0.5</td>\n",
       "    </tr>\n",
       "    <tr>\n",
       "      <th>4</th>\n",
       "      <td>59622821</td>\n",
       "      <td>0.5</td>\n",
       "    </tr>\n",
       "  </tbody>\n",
       "</table>\n",
       "</div>"
      ],
      "text/plain": [
       "   member_id  loan_status\n",
       "0   11937648          0.5\n",
       "1   38983318          0.5\n",
       "2   27999917          0.5\n",
       "3   61514932          0.5\n",
       "4   59622821          0.5"
      ]
     },
     "execution_count": 36,
     "metadata": {},
     "output_type": "execute_result"
    }
   ],
   "source": [
    "sub.head()"
   ]
  },
  {
   "cell_type": "code",
   "execution_count": null,
   "metadata": {},
   "outputs": [],
   "source": []
  }
 ],
 "metadata": {
  "kernelspec": {
   "display_name": "Python 3",
   "language": "python",
   "name": "python3"
  },
  "language_info": {
   "codemirror_mode": {
    "name": "ipython",
    "version": 3
   },
   "file_extension": ".py",
   "mimetype": "text/x-python",
   "name": "python",
   "nbconvert_exporter": "python",
   "pygments_lexer": "ipython3",
   "version": "3.6.9"
  }
 },
 "nbformat": 4,
 "nbformat_minor": 2
}
